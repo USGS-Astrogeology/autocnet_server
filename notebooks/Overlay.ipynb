{
 "cells": [
  {
   "cell_type": "code",
   "execution_count": 1,
   "metadata": {},
   "outputs": [],
   "source": [
    "from autocnet_server.graph.graph import NetworkControlNetwork, NetworkCandidateGraph\n",
    "from autocnet_server.db.model import Images, Overlay, Matches, Network\n",
    "import autocnet_server.config as sc\n",
    "\n",
    "from sqlalchemy.orm import aliased, create_session, scoped_session, sessionmaker\n",
    "from sqlalchemy import create_engine"
   ]
  },
  {
   "cell_type": "markdown",
   "metadata": {},
   "source": [
    "## Instantiate the controlling objects"
   ]
  },
  {
   "cell_type": "code",
   "execution_count": 2,
   "metadata": {},
   "outputs": [],
   "source": [
    "ncg = NetworkCandidateGraph.from_database()"
   ]
  },
  {
   "cell_type": "code",
   "execution_count": 3,
   "metadata": {
    "collapsed": true
   },
   "outputs": [],
   "source": [
    "import time"
   ]
  },
  {
   "cell_type": "code",
   "execution_count": 4,
   "metadata": {},
   "outputs": [
    {
     "name": "stderr",
     "output_type": "stream",
     "text": [
      "Exception in thread Thread-4:\n",
      "Traceback (most recent call last):\n",
      "  File \"/home/jlaura/anaconda3/envs/ct/lib/python3.6/site-packages/redis/connection.py\", line 177, in _read_from_socket\n",
      "    raise socket.error(SERVER_CLOSED_CONNECTION_ERROR)\n",
      "OSError: Connection closed by server.\n",
      "\n",
      "During handling of the above exception, another exception occurred:\n",
      "\n",
      "Traceback (most recent call last):\n",
      "  File \"/home/jlaura/anaconda3/envs/ct/lib/python3.6/site-packages/redis/client.py\", line 668, in execute_command\n",
      "    return self.parse_response(connection, command_name, **options)\n",
      "  File \"/home/jlaura/anaconda3/envs/ct/lib/python3.6/site-packages/redis/client.py\", line 680, in parse_response\n",
      "    response = connection.read_response()\n",
      "  File \"/home/jlaura/anaconda3/envs/ct/lib/python3.6/site-packages/redis/connection.py\", line 624, in read_response\n",
      "    response = self._parser.read_response()\n",
      "  File \"/home/jlaura/anaconda3/envs/ct/lib/python3.6/site-packages/redis/connection.py\", line 284, in read_response\n",
      "    response = self._buffer.readline()\n",
      "  File \"/home/jlaura/anaconda3/envs/ct/lib/python3.6/site-packages/redis/connection.py\", line 216, in readline\n",
      "    self._read_from_socket()\n",
      "  File \"/home/jlaura/anaconda3/envs/ct/lib/python3.6/site-packages/redis/connection.py\", line 191, in _read_from_socket\n",
      "    (e.args,))\n",
      "redis.exceptions.ConnectionError: Error while reading from socket: ('Connection closed by server.',)\n",
      "\n",
      "During handling of the above exception, another exception occurred:\n",
      "\n",
      "Traceback (most recent call last):\n",
      "  File \"/home/jlaura/anaconda3/envs/ct/lib/python3.6/site-packages/redis/connection.py\", line 484, in connect\n",
      "    sock = self._connect()\n",
      "  File \"/home/jlaura/anaconda3/envs/ct/lib/python3.6/site-packages/redis/connection.py\", line 541, in _connect\n",
      "    raise err\n",
      "  File \"/home/jlaura/anaconda3/envs/ct/lib/python3.6/site-packages/redis/connection.py\", line 529, in _connect\n",
      "    sock.connect(socket_address)\n",
      "ConnectionRefusedError: [Errno 111] Connection refused\n",
      "\n",
      "During handling of the above exception, another exception occurred:\n",
      "\n",
      "Traceback (most recent call last):\n",
      "  File \"/home/jlaura/anaconda3/envs/ct/lib/python3.6/threading.py\", line 916, in _bootstrap_inner\n",
      "    self.run()\n",
      "  File \"/home/jlaura/autocnet_server/autocnet_server/graph/graph.py\", line 512, in run\n",
      "    for msg in self.queue.consume():\n",
      "  File \"/home/jlaura/anaconda3/envs/ct/lib/python3.6/site-packages/hotqueue.py\", line 75, in consume\n",
      "    msg = self.get(**kwargs)\n",
      "  File \"/home/jlaura/anaconda3/envs/ct/lib/python3.6/site-packages/hotqueue.py\", line 98, in get\n",
      "    msg = self.__redis.blpop(self.key, timeout=timeout)\n",
      "  File \"/home/jlaura/anaconda3/envs/ct/lib/python3.6/site-packages/redis/client.py\", line 1269, in blpop\n",
      "    return self.execute_command('BLPOP', *keys)\n",
      "  File \"/home/jlaura/anaconda3/envs/ct/lib/python3.6/site-packages/redis/client.py\", line 673, in execute_command\n",
      "    connection.send_command(*args)\n",
      "  File \"/home/jlaura/anaconda3/envs/ct/lib/python3.6/site-packages/redis/connection.py\", line 610, in send_command\n",
      "    self.send_packed_command(self.pack_command(*args))\n",
      "  File \"/home/jlaura/anaconda3/envs/ct/lib/python3.6/site-packages/redis/connection.py\", line 585, in send_packed_command\n",
      "    self.connect()\n",
      "  File \"/home/jlaura/anaconda3/envs/ct/lib/python3.6/site-packages/redis/connection.py\", line 489, in connect\n",
      "    raise ConnectionError(self._error_message(e))\n",
      "redis.exceptions.ConnectionError: Error 111 connecting to smalls:8000. Connection refused.\n",
      "\n",
      "Exception in thread Thread-5:\n",
      "Traceback (most recent call last):\n",
      "  File \"/home/jlaura/anaconda3/envs/ct/lib/python3.6/site-packages/redis/connection.py\", line 177, in _read_from_socket\n",
      "    raise socket.error(SERVER_CLOSED_CONNECTION_ERROR)\n",
      "OSError: Connection closed by server.\n",
      "\n",
      "During handling of the above exception, another exception occurred:\n",
      "\n",
      "Traceback (most recent call last):\n",
      "  File \"/home/jlaura/anaconda3/envs/ct/lib/python3.6/site-packages/redis/client.py\", line 668, in execute_command\n",
      "    return self.parse_response(connection, command_name, **options)\n",
      "  File \"/home/jlaura/anaconda3/envs/ct/lib/python3.6/site-packages/redis/client.py\", line 680, in parse_response\n",
      "    response = connection.read_response()\n",
      "  File \"/home/jlaura/anaconda3/envs/ct/lib/python3.6/site-packages/redis/connection.py\", line 624, in read_response\n",
      "    response = self._parser.read_response()\n",
      "  File \"/home/jlaura/anaconda3/envs/ct/lib/python3.6/site-packages/redis/connection.py\", line 284, in read_response\n",
      "    response = self._buffer.readline()\n",
      "  File \"/home/jlaura/anaconda3/envs/ct/lib/python3.6/site-packages/redis/connection.py\", line 216, in readline\n",
      "    self._read_from_socket()\n",
      "  File \"/home/jlaura/anaconda3/envs/ct/lib/python3.6/site-packages/redis/connection.py\", line 191, in _read_from_socket\n",
      "    (e.args,))\n",
      "redis.exceptions.ConnectionError: Error while reading from socket: ('Connection closed by server.',)\n",
      "\n",
      "During handling of the above exception, another exception occurred:\n",
      "\n",
      "Traceback (most recent call last):\n",
      "  File \"/home/jlaura/anaconda3/envs/ct/lib/python3.6/site-packages/redis/connection.py\", line 484, in connect\n",
      "    sock = self._connect()\n",
      "  File \"/home/jlaura/anaconda3/envs/ct/lib/python3.6/site-packages/redis/connection.py\", line 541, in _connect\n",
      "    raise err\n",
      "  File \"/home/jlaura/anaconda3/envs/ct/lib/python3.6/site-packages/redis/connection.py\", line 529, in _connect\n",
      "    sock.connect(socket_address)\n",
      "ConnectionRefusedError: [Errno 111] Connection refused\n",
      "\n",
      "During handling of the above exception, another exception occurred:\n",
      "\n",
      "Traceback (most recent call last):\n",
      "  File \"/home/jlaura/anaconda3/envs/ct/lib/python3.6/threading.py\", line 916, in _bootstrap_inner\n",
      "    self.run()\n",
      "  File \"/home/jlaura/autocnet_server/autocnet_server/graph/graph.py\", line 512, in run\n",
      "    for msg in self.queue.consume():\n",
      "  File \"/home/jlaura/anaconda3/envs/ct/lib/python3.6/site-packages/hotqueue.py\", line 75, in consume\n",
      "    msg = self.get(**kwargs)\n",
      "  File \"/home/jlaura/anaconda3/envs/ct/lib/python3.6/site-packages/hotqueue.py\", line 98, in get\n",
      "    msg = self.__redis.blpop(self.key, timeout=timeout)\n",
      "  File \"/home/jlaura/anaconda3/envs/ct/lib/python3.6/site-packages/redis/client.py\", line 1269, in blpop\n",
      "    return self.execute_command('BLPOP', *keys)\n",
      "  File \"/home/jlaura/anaconda3/envs/ct/lib/python3.6/site-packages/redis/client.py\", line 673, in execute_command\n",
      "    connection.send_command(*args)\n",
      "  File \"/home/jlaura/anaconda3/envs/ct/lib/python3.6/site-packages/redis/connection.py\", line 610, in send_command\n",
      "    self.send_packed_command(self.pack_command(*args))\n",
      "  File \"/home/jlaura/anaconda3/envs/ct/lib/python3.6/site-packages/redis/connection.py\", line 585, in send_packed_command\n",
      "    self.connect()\n",
      "  File \"/home/jlaura/anaconda3/envs/ct/lib/python3.6/site-packages/redis/connection.py\", line 489, in connect\n",
      "    raise ConnectionError(self._error_message(e))\n",
      "redis.exceptions.ConnectionError: Error 111 connecting to smalls:8000. Connection refused.\n",
      "Exception in thread Thread-6:\n",
      "Traceback (most recent call last):\n",
      "  File \"/home/jlaura/anaconda3/envs/ct/lib/python3.6/site-packages/redis/connection.py\", line 177, in _read_from_socket\n",
      "    raise socket.error(SERVER_CLOSED_CONNECTION_ERROR)\n",
      "OSError: Connection closed by server.\n",
      "\n",
      "During handling of the above exception, another exception occurred:\n",
      "\n",
      "Traceback (most recent call last):\n",
      "  File \"/home/jlaura/anaconda3/envs/ct/lib/python3.6/site-packages/redis/client.py\", line 668, in execute_command\n",
      "    return self.parse_response(connection, command_name, **options)\n",
      "  File \"/home/jlaura/anaconda3/envs/ct/lib/python3.6/site-packages/redis/client.py\", line 680, in parse_response\n",
      "    response = connection.read_response()\n",
      "  File \"/home/jlaura/anaconda3/envs/ct/lib/python3.6/site-packages/redis/connection.py\", line 624, in read_response\n",
      "    response = self._parser.read_response()\n",
      "  File \"/home/jlaura/anaconda3/envs/ct/lib/python3.6/site-packages/redis/connection.py\", line 284, in read_response\n",
      "    response = self._buffer.readline()\n",
      "  File \"/home/jlaura/anaconda3/envs/ct/lib/python3.6/site-packages/redis/connection.py\", line 216, in readline\n",
      "    self._read_from_socket()\n",
      "  File \"/home/jlaura/anaconda3/envs/ct/lib/python3.6/site-packages/redis/connection.py\", line 191, in _read_from_socket\n",
      "    (e.args,))\n",
      "redis.exceptions.ConnectionError: Error while reading from socket: ('Connection closed by server.',)\n",
      "\n",
      "During handling of the above exception, another exception occurred:\n",
      "\n",
      "Traceback (most recent call last):\n",
      "  File \"/home/jlaura/anaconda3/envs/ct/lib/python3.6/site-packages/redis/connection.py\", line 484, in connect\n",
      "    sock = self._connect()\n",
      "  File \"/home/jlaura/anaconda3/envs/ct/lib/python3.6/site-packages/redis/connection.py\", line 541, in _connect\n",
      "    raise err\n",
      "  File \"/home/jlaura/anaconda3/envs/ct/lib/python3.6/site-packages/redis/connection.py\", line 529, in _connect\n",
      "    sock.connect(socket_address)\n",
      "ConnectionRefusedError: [Errno 111] Connection refused\n",
      "\n",
      "During handling of the above exception, another exception occurred:\n",
      "\n",
      "Traceback (most recent call last):\n",
      "  File \"/home/jlaura/anaconda3/envs/ct/lib/python3.6/threading.py\", line 916, in _bootstrap_inner\n",
      "    self.run()\n",
      "  File \"/home/jlaura/autocnet_server/autocnet_server/graph/graph.py\", line 512, in run\n",
      "    for msg in self.queue.consume():\n",
      "  File \"/home/jlaura/anaconda3/envs/ct/lib/python3.6/site-packages/hotqueue.py\", line 75, in consume\n",
      "    msg = self.get(**kwargs)\n",
      "  File \"/home/jlaura/anaconda3/envs/ct/lib/python3.6/site-packages/hotqueue.py\", line 98, in get\n",
      "    msg = self.__redis.blpop(self.key, timeout=timeout)\n",
      "  File \"/home/jlaura/anaconda3/envs/ct/lib/python3.6/site-packages/redis/client.py\", line 1269, in blpop\n",
      "    return self.execute_command('BLPOP', *keys)\n",
      "  File \"/home/jlaura/anaconda3/envs/ct/lib/python3.6/site-packages/redis/client.py\", line 673, in execute_command\n",
      "    connection.send_command(*args)\n",
      "  File \"/home/jlaura/anaconda3/envs/ct/lib/python3.6/site-packages/redis/connection.py\", line 610, in send_command\n",
      "    self.send_packed_command(self.pack_command(*args))\n",
      "  File \"/home/jlaura/anaconda3/envs/ct/lib/python3.6/site-packages/redis/connection.py\", line 585, in send_packed_command\n",
      "    self.connect()\n",
      "  File \"/home/jlaura/anaconda3/envs/ct/lib/python3.6/site-packages/redis/connection.py\", line 489, in connect\n",
      "    raise ConnectionError(self._error_message(e))\n",
      "redis.exceptions.ConnectionError: Error 111 connecting to smalls:8000. Connection refused.\n",
      "\n",
      "\n"
     ]
    }
   ],
   "source": [
    "ncg.create_network()"
   ]
  },
  {
   "cell_type": "code",
   "execution_count": null,
   "metadata": {
    "collapsed": true
   },
   "outputs": [],
   "source": []
  },
  {
   "cell_type": "code",
   "execution_count": null,
   "metadata": {
    "collapsed": true
   },
   "outputs": [],
   "source": []
  },
  {
   "cell_type": "code",
   "execution_count": null,
   "metadata": {
    "collapsed": true
   },
   "outputs": [],
   "source": []
  },
  {
   "cell_type": "code",
   "execution_count": null,
   "metadata": {
    "collapsed": true
   },
   "outputs": [],
   "source": []
  },
  {
   "cell_type": "code",
   "execution_count": 5,
   "metadata": {
    "collapsed": true
   },
   "outputs": [],
   "source": [
    "import hotqueue as hq\n",
    "import json\n",
    "queue = hq.HotQueue(\"processor\",\n",
    "                    serializer=json,\n",
    "                    host=\"smalls\",\n",
    "                    port=8000,\n",
    "                    db=0)"
   ]
  },
  {
   "cell_type": "code",
   "execution_count": 6,
   "metadata": {
    "collapsed": true
   },
   "outputs": [],
   "source": [
    "queue.clear()"
   ]
  },
  {
   "cell_type": "code",
   "execution_count": 25,
   "metadata": {},
   "outputs": [
    {
     "data": {
      "text/plain": [
       "<osgeo.ogr.Geometry; proxy of <Swig Object of type 'OGRGeometryShadow *' at 0x2b38ddfaef60> >"
      ]
     },
     "execution_count": 25,
     "metadata": {},
     "output_type": "execute_result"
    }
   ],
   "source": [
    "import ogr\n",
    "f = 'POLYGON Z ((153.9720305617193 14.11288219582294 0, 153.988986142465 14.1148853346627 0, 154.035160664755 13.7366069760388 0, 154.0459876138069 13.6476753243032 0, 153.993062031284 13.9811487290627 0, 153.9720305617193 14.11288219582294 0))'\n",
    "g = ogr.CreateGeometryFromWkt(f)\n",
    "g.Area()\n",
    "g.GetBoundary()"
   ]
  },
  {
   "cell_type": "code",
   "execution_count": 8,
   "metadata": {},
   "outputs": [
    {
     "name": "stdout",
     "output_type": "stream",
     "text": [
      "        id  source  source_idx  destination  destination_idx       lat  \\\n",
      "24  928099     814      533713         1140           494307  5.081649   \n",
      "47  859586     814      533712         1140           494307  5.081649   \n",
      "\n",
      "           lon                                               geom    source_x  \\\n",
      "24  155.836508  01010000a08c7e0e00094757acc47a63404b74c8e29b53...  637.017212   \n",
      "47  155.836508  01010000a08c7e0e00094757acc47a63404b74c8e29b53...  637.017212   \n",
      "\n",
      "        source_y  destination_x  destination_y  \n",
      "24  41722.148438    2335.210449      39376.125  \n",
      "47  41722.148438    2335.210449      39376.125  \n"
     ]
    }
   ],
   "source": [
    "e = ncg.edges[(814, 1140)]['data']\n",
    "for g, m in e.matches.groupby(['destination_idx']):\n",
    "    if len(m) > 1:\n",
    "        print(m)"
   ]
  },
  {
   "cell_type": "markdown",
   "metadata": {},
   "source": [
    "## Generate the overlaps, remove the overlaps have have only a single image intersecting.\n",
    "The resultant geometries have 2+ images that should have points punched through."
   ]
  },
  {
   "cell_type": "code",
   "execution_count": 4,
   "metadata": {
    "collapsed": true
   },
   "outputs": [],
   "source": [
    "from geoalchemy2.shape import to_shape \n",
    "import time"
   ]
  },
  {
   "cell_type": "markdown",
   "metadata": {},
   "source": [
    "#TODO:\n",
    "Since this runs over every overlapping polygon, it is trivial to parallelize on the cluster. Simply chunk out the overlapping geometries at some reasonable size and run $n$ concurrent jobs that write the results back to the redis queue and then on to the DB."
   ]
  },
  {
   "cell_type": "code",
   "execution_count": 173,
   "metadata": {},
   "outputs": [
    {
     "name": "stdout",
     "output_type": "stream",
     "text": [
      "48.50995707511902\n"
     ]
    }
   ],
   "source": [
    "t1 = time.time()\n",
    "oquery = session.query(Overlay)\n",
    "iquery = session.query(Images)\n",
    "\n",
    "commits = []\n",
    "for q in query:\n",
    "    commit = {'id':q.id, 'overlaps':[]}    \n",
    "    qgeom = to_shape(q.geom)\n",
    "    res = iquery.filter(Images.footprint_latlon.ST_Intersects(q.geom))\n",
    "    for i in res:\n",
    "        fgeom = to_shape(i.footprint_latlon)\n",
    "        \n",
    "        area = qgeom.intersection(fgeom).area\n",
    "        if area < 1e-6:\n",
    "            continue\n",
    "        commit['overlaps'].append(i.id)\n",
    "    commits.append(commit)\n",
    "session.bulk_update_mappings(Overlay, commits)\n",
    "session.commit()\n",
    "t2 = time.time()\n",
    "print(t2 - t1)"
   ]
  },
  {
   "cell_type": "code",
   "execution_count": 6,
   "metadata": {
    "collapsed": true
   },
   "outputs": [],
   "source": [
    "# This deletes the geometries that only have a single image overlapping.\n",
    "# Something for the future, what happens if more images are streamed in?  Something for next year maybe?\n",
    "\n",
    "\n",
    "oquery = session.query(Overlay)\n",
    "from sqlalchemy import func\n",
    "res = oquery.filter(func.cardinality(Overlay.overlaps) <= 1)\n",
    "res.delete(synchronize_session=False)\n",
    "session.commit()"
   ]
  },
  {
   "cell_type": "markdown",
   "metadata": {},
   "source": [
    "## Get all of the correspondences that exist in a given geometry\n",
    "This is prototyping for what should be a cluster job.\n",
    "\n",
    "From here down is what the cluster job is going to need to do.\n",
    "\n",
    "Compute Before Pushing\n",
    "  * Polygon\n",
    "  * Overlapping Edges\n",
    "  * Fundamental Matrices\n",
    "  * Reprojection Error\n",
    "  * Compute k, scalar for the number of points to keep based on area. 0.002 looks like a good default\n",
    "\n",
    "Push to the processing queue\n",
    "  * Matches Data - as json\n",
    "  * Polygon Bounds - list (minx, miny, maxx, maxy)\n",
    "  * K \n",
    "  * Fundamental Matrices (dict of arrays) - do I need to convert to a list?\n",
    "  * overlaps - list of tuples of edges\n",
    "\n",
    "Push back to the completed queue\n",
    "  * List of network objs in JSON form"
   ]
  },
  {
   "cell_type": "code",
   "execution_count": 5,
   "metadata": {
    "collapsed": true
   },
   "outputs": [],
   "source": [
    "from itertools import combinations\n",
    "import pandas as pd\n",
    "\n",
    "from autocnet.transformation.fundamental_matrix import compute_reprojection_error\n",
    "from autocnet.utils.utils import make_homogeneous\n",
    "import numpy as np\n",
    "import math"
   ]
  },
  {
   "cell_type": "code",
   "execution_count": 48,
   "metadata": {},
   "outputs": [
    {
     "name": "stdout",
     "output_type": "stream",
     "text": [
      "[842, 986]\n"
     ]
    },
    {
     "data": {
      "image/svg+xml": [
       "<svg xmlns=\"http://www.w3.org/2000/svg\" xmlns:xlink=\"http://www.w3.org/1999/xlink\" width=\"100.0\" height=\"100.0\" viewBox=\"153.95334216130487 13.628986923888824 0.11133385291645936 0.5045868111882559\" preserveAspectRatio=\"xMinYMin meet\"><g transform=\"matrix(1,0,0,-1,0,27.762560658965903)\"><path fill-rule=\"evenodd\" fill=\"#66cc99\" stroke=\"#555555\" stroke-width=\"0.010091736223765118\" opacity=\"0.6\" d=\"M 153.97203056171927,14.112882195822936 L 153.988986142465,14.1148853346627 L 154.035160664755,13.7366069760388 L 154.04598761380694,13.647675324303204 L 153.993062031284,13.9811487290627 L 153.97203056171927,14.112882195822936 z\" /></g></svg>"
      ],
      "text/plain": [
       "<shapely.geometry.polygon.Polygon at 0x2add31231278>"
      ]
     },
     "execution_count": 48,
     "metadata": {},
     "output_type": "execute_result"
    }
   ],
   "source": [
    "oquery = session.query(Overlay)\n",
    "mquery = session.query(Matches)\n",
    "\n",
    "def check_in(r, poly):\n",
    "    p = to_shape(r.geom)\n",
    "    return p.within(poly)\n",
    "\n",
    "fundamentals = {}\n",
    "for res in oquery:\n",
    "    poly = to_shape(res.geom)\n",
    "    overlaps = res.overlaps\n",
    "    # Case n > 2 images\n",
    "    matches = []\n",
    "    # Merge together all of the points from all of the images and grab the fundamental matrices\n",
    "    for e in combinations(res.overlaps, 2):\n",
    "        edge = ncg.edges[e]['data']\n",
    "        \n",
    "        edge.compute_fundamental_matrix(method='ransac', reproj_threshold=20)\n",
    "        fundamentals[e] = edge['fundamental_matrix']\n",
    "        m = edge.matches\n",
    "        err = compute_reprojection_error(edge['fundamental_matrix'],\n",
    "                                         make_homogeneous(m[['source_x', 'source_y']].values), \n",
    "                                         make_homogeneous(m[['destination_x', 'destination_y']].values))\n",
    "\n",
    "        m['strength'] = err\n",
    "        matches.append(m)\n",
    "\n",
    "\n",
    "    matches = pd.concat(matches)\n",
    "    \n",
    "    # Of the concatenated matches only a subset intersect the geometry for this overlap, pull these\n",
    "    intersects = matches.apply(check_in, args=(poly,), axis=1)\n",
    "    matches = matches[intersects]\n",
    "    print(overlaps)\n",
    "    break\n",
    "\n",
    "len(matches)\n",
    "poly"
   ]
  },
  {
   "cell_type": "code",
   "execution_count": 36,
   "metadata": {},
   "outputs": [
    {
     "data": {
      "text/plain": [
       "55.88188361500807"
      ]
     },
     "execution_count": 36,
     "metadata": {},
     "output_type": "execute_result"
    }
   ],
   "source": [
    "poly.area / 0.002"
   ]
  },
  {
   "cell_type": "markdown",
   "metadata": {},
   "source": [
    "## Spatial Suppression"
   ]
  },
  {
   "cell_type": "code",
   "execution_count": 7,
   "metadata": {
    "collapsed": true
   },
   "outputs": [],
   "source": [
    "b = poly.bounds\n",
    "minx = min(b[0], b[2])\n",
    "maxx = max(b[0], b[2])\n",
    "miny = min(b[1], b[3])\n",
    "maxy = max(b[1], b[3])\n",
    "\n",
    "domain = (maxx-minx),(maxy-miny)\n",
    "min_radius = min(domain) / 20\n",
    "max_radius = max(domain)\n",
    "nsteps = 250\n",
    "search_space = np.linspace(min_radius, max_radius, nsteps)\n",
    "cell_sizes = search_space / math.sqrt(2)\n",
    "min_idx = 0\n",
    "max_idx = len(search_space) - 1\n",
    "\n",
    "prev_min = None\n",
    "prev_max = None\n",
    "\n",
    "k = 60\n",
    "error_k=0.05\n",
    "df = matches\n",
    "df = df.sort_values(by=['strength'], ascending=True).copy()\n",
    "df = df.reset_index(drop=True)\n",
    "mask = pd.Series(False, index=df.index)\n",
    "\n",
    "process = True\n",
    "while process:\n",
    "    # Setup to store results\n",
    "    result = []\n",
    "    \n",
    "    mid_idx = int((min_idx + max_idx) / 2)\n",
    "    if min_idx == mid_idx or mid_idx == max_idx:\n",
    "        warnings.warn('Unable to optimally solve.  Returning with {} points'.format(len(result)))\n",
    "        process = False\n",
    "\n",
    "    cell_size = cell_sizes[mid_idx]\n",
    "    n_x_cells = int(round(domain[0] / cell_size, 0)) - 1\n",
    "    n_y_cells = int(round(domain[1] / cell_size, 0)) - 1\n",
    "    grid = np.zeros((n_y_cells, n_x_cells), dtype=np.bool)\n",
    "    # Assign all points to bins\n",
    "    x_edges = np.linspace(minx, maxx, n_x_cells)\n",
    "    y_edges = np.linspace(miny, maxy, n_y_cells)\n",
    "    xbins = np.digitize(df['lon'], bins=x_edges)\n",
    "    ybins = np.digitize(df['lat'], bins=y_edges)\n",
    "\n",
    "    # Convert bins to cells\n",
    "    for i, (idx, p) in enumerate(df.iterrows()):\n",
    "        x_center = xbins[i] - 1\n",
    "        y_center = ybins[i] - 1\n",
    "        cell = grid[y_center, x_center]\n",
    "        \n",
    "        if cell == False:\n",
    "            result.append(idx)\n",
    "            # Set the cell to True\n",
    "            grid[y_center, x_center] = True\n",
    "            \n",
    "        if grid.all() == False:\n",
    "            continue\n",
    "    if k - k * error_k <= len(result) <= k + k * error_k:\n",
    "        # Success, in bounds\n",
    "        process = False\n",
    "    elif len(result) < k - k * error_k:\n",
    "        # The radius is too large\n",
    "        max_idx = mid_idx\n",
    "        if max_idx == 0:\n",
    "            warnings.warn('Unable to retrieve {} points. Consider reducing the amount of points you request(k)'\n",
    "                          .format(k))\n",
    "            process = False\n",
    "        if min_idx == max_idx:\n",
    "            process = False\n",
    "    elif len(result) > k + k * error_k:\n",
    "        # Too many points, break\n",
    "        min_idx = mid_idx\n",
    "mask.loc[list(result)] = True\n",
    "tp = df[mask]"
   ]
  },
  {
   "cell_type": "code",
   "execution_count": 8,
   "metadata": {},
   "outputs": [
    {
     "name": "stdout",
     "output_type": "stream",
     "text": [
      "0.0343841452562\n"
     ]
    }
   ],
   "source": [
    "print(cell_size)"
   ]
  },
  {
   "cell_type": "code",
   "execution_count": 9,
   "metadata": {},
   "outputs": [
    {
     "data": {
      "text/plain": [
       "array([ 11.10933357,  11.14985672,  11.19037987,  11.23090302,\n",
       "        11.27142617,  11.31194932,  11.35247247,  11.39299562,\n",
       "        11.43351877,  11.47404192,  11.51456507,  11.55508822])"
      ]
     },
     "execution_count": 9,
     "metadata": {},
     "output_type": "execute_result"
    }
   ],
   "source": [
    "x_edges\n",
    "y_edges"
   ]
  },
  {
   "cell_type": "code",
   "execution_count": 10,
   "metadata": {},
   "outputs": [
    {
     "data": {
      "text/plain": [
       "array([[False,  True, False, False,  True, False, False, False],\n",
       "       [False,  True,  True,  True,  True,  True,  True, False],\n",
       "       [False,  True,  True,  True,  True,  True,  True, False],\n",
       "       [ True,  True,  True,  True,  True,  True,  True, False],\n",
       "       [False,  True,  True,  True,  True,  True,  True, False],\n",
       "       [False,  True,  True,  True,  True,  True,  True, False],\n",
       "       [ True,  True,  True,  True, False,  True,  True, False],\n",
       "       [False,  True,  True,  True,  True,  True, False, False],\n",
       "       [False,  True,  True,  True,  True,  True, False, False],\n",
       "       [ True,  True,  True,  True,  True,  True, False, False],\n",
       "       [ True, False, False,  True,  True,  True, False, False],\n",
       "       [False, False, False, False, False, False, False, False]], dtype=bool)"
      ]
     },
     "execution_count": 10,
     "metadata": {},
     "output_type": "execute_result"
    }
   ],
   "source": [
    "grid"
   ]
  },
  {
   "cell_type": "code",
   "execution_count": 13,
   "metadata": {},
   "outputs": [
    {
     "ename": "NameError",
     "evalue": "name 'plt' is not defined",
     "output_type": "error",
     "traceback": [
      "\u001b[0;31m---------------------------------------------------------------------------\u001b[0m",
      "\u001b[0;31mNameError\u001b[0m                                 Traceback (most recent call last)",
      "\u001b[0;32m<ipython-input-13-003c0164b45f>\u001b[0m in \u001b[0;36m<module>\u001b[0;34m()\u001b[0m\n\u001b[0;32m----> 1\u001b[0;31m \u001b[0mfig\u001b[0m\u001b[0;34m,\u001b[0m \u001b[0max\u001b[0m \u001b[0;34m=\u001b[0m \u001b[0mplt\u001b[0m\u001b[0;34m.\u001b[0m\u001b[0msubplots\u001b[0m\u001b[0;34m(\u001b[0m\u001b[0;34m)\u001b[0m\u001b[0;34m\u001b[0m\u001b[0m\n\u001b[0m\u001b[1;32m      2\u001b[0m \u001b[0max\u001b[0m\u001b[0;34m.\u001b[0m\u001b[0mset_xticks\u001b[0m\u001b[0;34m(\u001b[0m\u001b[0mx_edges\u001b[0m\u001b[0;34m,\u001b[0m \u001b[0mminor\u001b[0m\u001b[0;34m=\u001b[0m\u001b[0;32mFalse\u001b[0m\u001b[0;34m)\u001b[0m\u001b[0;34m\u001b[0m\u001b[0m\n\u001b[1;32m      3\u001b[0m \u001b[0max\u001b[0m\u001b[0;34m.\u001b[0m\u001b[0mset_yticks\u001b[0m\u001b[0;34m(\u001b[0m\u001b[0my_edges\u001b[0m\u001b[0;34m,\u001b[0m \u001b[0mminor\u001b[0m\u001b[0;34m=\u001b[0m\u001b[0;32mFalse\u001b[0m\u001b[0;34m)\u001b[0m\u001b[0;34m\u001b[0m\u001b[0m\n\u001b[1;32m      4\u001b[0m \u001b[0max\u001b[0m\u001b[0;34m.\u001b[0m\u001b[0mplot\u001b[0m\u001b[0;34m(\u001b[0m\u001b[0mtp\u001b[0m\u001b[0;34m.\u001b[0m\u001b[0mlon\u001b[0m\u001b[0;34m.\u001b[0m\u001b[0mvalues\u001b[0m\u001b[0;34m,\u001b[0m \u001b[0mtp\u001b[0m\u001b[0;34m.\u001b[0m\u001b[0mlat\u001b[0m\u001b[0;34m.\u001b[0m\u001b[0mvalues\u001b[0m\u001b[0;34m,\u001b[0m \u001b[0;34m'ro'\u001b[0m\u001b[0;34m)\u001b[0m\u001b[0;34m\u001b[0m\u001b[0m\n\u001b[1;32m      5\u001b[0m \u001b[0max\u001b[0m\u001b[0;34m.\u001b[0m\u001b[0mxaxis\u001b[0m\u001b[0;34m.\u001b[0m\u001b[0mgrid\u001b[0m\u001b[0;34m(\u001b[0m\u001b[0;32mTrue\u001b[0m\u001b[0;34m,\u001b[0m \u001b[0mwhich\u001b[0m\u001b[0;34m=\u001b[0m\u001b[0;34m'major'\u001b[0m\u001b[0;34m)\u001b[0m\u001b[0;34m\u001b[0m\u001b[0m\n",
      "\u001b[0;31mNameError\u001b[0m: name 'plt' is not defined"
     ]
    }
   ],
   "source": [
    "fig, ax = plt.subplots()\n",
    "ax.set_xticks(x_edges, minor=False)\n",
    "ax.set_yticks(y_edges, minor=False)\n",
    "ax.plot(tp.lon.values, tp.lat.values, 'ro')\n",
    "ax.xaxis.grid(True, which='major')\n",
    "ax.yaxis.grid(True, which='major')"
   ]
  },
  {
   "cell_type": "markdown",
   "metadata": {},
   "source": [
    "## Push these correspondences through"
   ]
  },
  {
   "cell_type": "code",
   "execution_count": 29,
   "metadata": {},
   "outputs": [
    {
     "data": {
      "text/plain": [
       "59"
      ]
     },
     "execution_count": 29,
     "metadata": {},
     "output_type": "execute_result"
    }
   ],
   "source": [
    "len(tp)"
   ]
  },
  {
   "cell_type": "code",
   "execution_count": 27,
   "metadata": {
    "collapsed": true,
    "scrolled": false
   },
   "outputs": [],
   "source": [
    "points = []\n",
    "for g, subm in tp.groupby(['source', 'destination']):\n",
    "    f = fundamentals[g]\n",
    "    w = int(g[0])\n",
    "    v = int(g[1])\n",
    "        \n",
    "    push_into = [i for i in overlaps if i not in g]\n",
    "    \n",
    "    x1 = make_homogeneous(subm[['source_x', 'source_y']].values)\n",
    "    x2 = make_homogeneous(subm[['destination_x', 'destination_y']].values)\n",
    "    \n",
    "    for i in range(x1.shape[0]):\n",
    "        row = subm.iloc[i]\n",
    "        geom  = 'SRID=949900;POINTZ({} {} {})'.format(row.lon, row.lat, 0)\n",
    "        a = x1[i]\n",
    "        b = x2[i]\n",
    "\n",
    "        p1 = Network(image_id=w,\n",
    "                     keypoint_id=int(row.source_idx),\n",
    "                     x = float(a[0]), y = float(a[1]), \n",
    "                     match_id=int(row.name),\n",
    "                     point_id='TESTING', \n",
    "                     geom=geom)\n",
    "        p2 = Network(image_id=v,\n",
    "                     keypoint_id=int(row.destination_idx),\n",
    "                     x = float(b[0]), y = float(b[1]), \n",
    "                     match_id=int(row.name),\n",
    "                     point_id='TESTING',\n",
    "                     geom=geom)\n",
    "        \n",
    "        points.append(p1)\n",
    "        points.append(p2)\n",
    "            \n",
    "        for e in push_into:\n",
    "            if w > e:\n",
    "                f31 = [e,w]\n",
    "                f31 = fundamentals[tuple(f31)].T\n",
    "            else:\n",
    "                f31 = [w,e]\n",
    "                f31 = fundamentals[tuple(f31)]       \n",
    "\n",
    "            if v > e:\n",
    "                f32 = [e,v]\n",
    "                f32 = fundamentals[tuple(f32)].T\n",
    "            else:\n",
    "                f32 = [v,e]\n",
    "                f32 = fundamentals[tuple(f32)]\n",
    "\n",
    "\n",
    "            x3 = np.cross(f31.dot(a), f32.dot(b))\n",
    "            x3[0] /= x3[2]\n",
    "            x3[1] /= x3[2]\n",
    "\n",
    "            # This needs to aggregate all of the \n",
    "            n = Network(image_id=e,\n",
    "                        keypoint_id=None, \n",
    "                        x=float(x3[0]), y=float(x3[1]),\n",
    "                        point_id='TESTING',\n",
    "                        geom=geom, match_id = None)\n",
    "\n",
    "\n",
    "            points.append(n)"
   ]
  },
  {
   "cell_type": "code",
   "execution_count": 29,
   "metadata": {
    "collapsed": true
   },
   "outputs": [],
   "source": [
    "session.rollback()"
   ]
  },
  {
   "cell_type": "code",
   "execution_count": 28,
   "metadata": {},
   "outputs": [
    {
     "data": {
      "text/plain": [
       "236"
      ]
     },
     "execution_count": 28,
     "metadata": {},
     "output_type": "execute_result"
    }
   ],
   "source": [
    "len(points)"
   ]
  },
  {
   "cell_type": "code",
   "execution_count": 30,
   "metadata": {
    "collapsed": true
   },
   "outputs": [],
   "source": [
    "session.bulk_save_objects(points)\n",
    "session.commit()"
   ]
  },
  {
   "cell_type": "code",
   "execution_count": null,
   "metadata": {
    "collapsed": true
   },
   "outputs": [],
   "source": []
  }
 ],
 "metadata": {
  "kernelspec": {
   "display_name": "Camera Testing",
   "language": "python",
   "name": "ct"
  },
  "language_info": {
   "codemirror_mode": {
    "name": "ipython",
    "version": 3
   },
   "file_extension": ".py",
   "mimetype": "text/x-python",
   "name": "python",
   "nbconvert_exporter": "python",
   "pygments_lexer": "ipython3",
   "version": "3.6.3"
  }
 },
 "nbformat": 4,
 "nbformat_minor": 2
}
