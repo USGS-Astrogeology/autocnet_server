{
 "cells": [
  {
   "cell_type": "code",
   "execution_count": 1,
   "metadata": {
    "collapsed": true
   },
   "outputs": [],
   "source": [
    "import os\n",
    "os.environ['autocnet_config'] = '/home/jlaura/autocnet_projects/demo.yml'\n",
    "from autocnet_server.graph.graph import NetworkCandidateGraph\n",
    "\n",
    "import yaml\n",
    "#Load the config file\n",
    "with open(os.environ['autocnet_config'], 'r') as f:\n",
    "    config = yaml.load(f)"
   ]
  },
  {
   "cell_type": "markdown",
   "metadata": {},
   "source": [
    "## Deepening the correspondences"
   ]
  },
  {
   "cell_type": "code",
   "execution_count": null,
   "metadata": {
    "collapsed": true
   },
   "outputs": [],
   "source": []
  },
  {
   "cell_type": "code",
   "execution_count": 2,
   "metadata": {
    "collapsed": true
   },
   "outputs": [],
   "source": [
    "ncg = NetworkCandidateGraph.from_database()"
   ]
  },
  {
   "cell_type": "code",
   "execution_count": 3,
   "metadata": {},
   "outputs": [
    {
     "name": "stdout",
     "output_type": "stream",
     "text": [
      "SRID=949900;POLYGON Z ((156.2214714328915 8.761615545930287 0, 156.2206739803139 8.761519983278053 0, 156.2155810270936 8.808808698838535 0, 156.2214714328915 8.761615545930287 0))\n"
     ]
    },
    {
     "name": "stderr",
     "output_type": "stream",
     "text": [
      "Exception in thread jdemo:working:\n",
      "Traceback (most recent call last):\n",
      "  File \"/home/jlaura/anaconda3/envs/ct/lib/python3.6/threading.py\", line 916, in _bootstrap_inner\n",
      "    self.run()\n",
      "  File \"/home/jlaura/autocnet_server/autocnet_server/graph/graph.py\", line 564, in run\n",
      "  File \"/home/jlaura/autocnet_server/autocnet_server/graph/graph.py\", line 398, in ring_matcher_callback\n",
      "    rm['count'] += 1\n",
      "KeyError: 'count'\n",
      "\n"
     ]
    }
   ],
   "source": [
    "ncg.compute_overlaps()"
   ]
  }
 ],
 "metadata": {
  "kernelspec": {
   "display_name": "Camera Testing",
   "language": "python",
   "name": "ct"
  },
  "language_info": {
   "codemirror_mode": {
    "name": "ipython",
    "version": 3
   },
   "file_extension": ".py",
   "mimetype": "text/x-python",
   "name": "python",
   "nbconvert_exporter": "python",
   "pygments_lexer": "ipython3",
   "version": "3.6.3"
  }
 },
 "nbformat": 4,
 "nbformat_minor": 2
}
