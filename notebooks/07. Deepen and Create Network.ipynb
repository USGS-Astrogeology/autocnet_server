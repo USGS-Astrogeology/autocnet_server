{
 "cells": [
  {
   "cell_type": "code",
   "execution_count": 1,
   "metadata": {
    "collapsed": true
   },
   "outputs": [],
   "source": [
    "import os\n",
    "os.environ['autocnet_config'] = '/home/jlaura/autocnet_projects/demo.yml'\n",
    "from autocnet_server.graph.graph import NetworkCandidateGraph\n",
    "\n",
    "import yaml\n",
    "#Load the config file\n",
    "with open(os.environ['autocnet_config'], 'r') as f:\n",
    "    config = yaml.load(f)"
   ]
  },
  {
   "cell_type": "code",
   "execution_count": 2,
   "metadata": {
    "collapsed": true
   },
   "outputs": [],
   "source": [
    "ncg = NetworkCandidateGraph.from_database()"
   ]
  },
  {
   "cell_type": "markdown",
   "metadata": {},
   "source": [
    "## Deepening the correspondences"
   ]
  },
  {
   "cell_type": "code",
   "execution_count": 5,
   "metadata": {},
   "outputs": [
    {
     "name": "stderr",
     "output_type": "stream",
     "text": [
      "Exception in thread jdemo:working:\n",
      "Traceback (most recent call last):\n",
      "  File \"/home/jlaura/anaconda3/envs/ct/lib/python3.6/threading.py\", line 916, in _bootstrap_inner\n",
      "    self.run()\n",
      "  File \"/home/jlaura/autocnet_server/autocnet_server/graph/graph.py\", line 563, in run\n",
      "    msg = self.queue.lpop(self.name)  # or blpop?\n",
      "AttributeError: 'NetworkCandidateGraph' object has no attribute 'compute_fundamental_callback'\n",
      "\n",
      "Exception in thread jdemo:done:\n",
      "Traceback (most recent call last):\n",
      "  File \"/home/jlaura/anaconda3/envs/ct/lib/python3.6/threading.py\", line 916, in _bootstrap_inner\n",
      "    self.run()\n",
      "  File \"/home/jlaura/autocnet_server/autocnet_server/graph/graph.py\", line 527, in run\n",
      "AttributeError: 'NetworkCandidateGraph' object has no attribute 'compute_fundamental_callback'\n",
      "\n",
      "Exception in thread jdemo:done:\n",
      "Traceback (most recent call last):\n",
      "  File \"/home/jlaura/anaconda3/envs/ct/lib/python3.6/threading.py\", line 916, in _bootstrap_inner\n",
      "    self.run()\n",
      "  File \"/home/jlaura/autocnet_server/autocnet_server/graph/graph.py\", line 527, in run\n",
      "AttributeError: 'NetworkCandidateGraph' object has no attribute 'compute_fundamental_callback'\n",
      "\n",
      "Exception in thread jdemo:done:\n",
      "Traceback (most recent call last):\n",
      "  File \"/home/jlaura/anaconda3/envs/ct/lib/python3.6/threading.py\", line 916, in _bootstrap_inner\n",
      "    self.run()\n",
      "  File \"/home/jlaura/autocnet_server/autocnet_server/graph/graph.py\", line 527, in run\n",
      "AttributeError: 'NetworkCandidateGraph' object has no attribute 'compute_fundamental_callback'\n",
      "\n"
     ]
    }
   ],
   "source": [
    "ncg.compute_overlaps()"
   ]
  },
  {
   "cell_type": "code",
   "execution_count": null,
   "metadata": {
    "collapsed": true
   },
   "outputs": [],
   "source": []
  },
  {
   "cell_type": "code",
   "execution_count": null,
   "metadata": {
    "collapsed": true
   },
   "outputs": [],
   "source": []
  }
 ],
 "metadata": {
  "kernelspec": {
   "display_name": "Camera Testing",
   "language": "python",
   "name": "ct"
  },
  "language_info": {
   "codemirror_mode": {
    "name": "ipython",
    "version": 3
   },
   "file_extension": ".py",
   "mimetype": "text/x-python",
   "name": "python",
   "nbconvert_exporter": "python",
   "pygments_lexer": "ipython3",
   "version": "3.6.3"
  }
 },
 "nbformat": 4,
 "nbformat_minor": 2
}
