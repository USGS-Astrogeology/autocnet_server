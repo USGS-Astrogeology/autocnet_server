{
 "cells": [
  {
   "cell_type": "code",
   "execution_count": 1,
   "metadata": {
    "collapsed": true
   },
   "outputs": [],
   "source": [
    "from autocnet_server.graph.graph import NetworkCandidateGraph\n",
    "from autocnet_server.db.model import Network\n",
    "from autocnet_server.config import AutoCNet_Config as config\n",
    "\n",
    "from sqlalchemy.orm import aliased, create_session, scoped_session, sessionmaker\n",
    "from sqlalchemy import create_engine"
   ]
  },
  {
   "cell_type": "code",
   "execution_count": 2,
   "metadata": {
    "collapsed": true
   },
   "outputs": [],
   "source": [
    "sc = config()\n",
    "db_uri = 'postgresql://{}:{}@{}:{}/{}'.format(sc.database_username,\n",
    "                                              sc.database_password,\n",
    "                                              sc.database_host,\n",
    "                                              sc.database_port,\n",
    "                                              sc.database_name)\n",
    "engine = create_engine(db_uri)\n",
    "connection = engine.connect()\n",
    "session = sessionmaker(bind=engine)()"
   ]
  },
  {
   "cell_type": "markdown",
   "metadata": {},
   "source": [
    "## Go from a network to an ISIS3 Control Network"
   ]
  },
  {
   "cell_type": "code",
   "execution_count": 3,
   "metadata": {
    "collapsed": true
   },
   "outputs": [],
   "source": [
    "import numpy as np\n",
    "import pandas as pd\n",
    "from plio.io.io_controlnetwork import to_isis, write_filelist\n",
    "\n",
    "# 'point_id', 'x', 'y', 'image_index']"
   ]
  },
  {
   "cell_type": "code",
   "execution_count": 4,
   "metadata": {
    "collapsed": true
   },
   "outputs": [],
   "source": [
    "ncg = NetworkCandidateGraph.from_database()"
   ]
  },
  {
   "cell_type": "code",
   "execution_count": 5,
   "metadata": {
    "collapsed": true
   },
   "outputs": [],
   "source": [
    "serials = ncg.serials()\n",
    "for k, v in serials.items():\n",
    "    serials[k] = v.replace('Mars_Reconnaissance_Orbiter', 'MRO')"
   ]
  },
  {
   "cell_type": "code",
   "execution_count": 23,
   "metadata": {},
   "outputs": [
    {
     "name": "stdout",
     "output_type": "stream",
     "text": [
      "1092\n"
     ]
    }
   ],
   "source": [
    "for i, n in ncg.nodes(data='data'):\n",
    "    if 'D17_033925_1884_XN_08N199W.cal.cub' in n['image_name']:\n",
    "        print(i)\n",
    "        break"
   ]
  },
  {
   "cell_type": "code",
   "execution_count": 14,
   "metadata": {
    "collapsed": true
   },
   "outputs": [],
   "source": [
    "data = []\n",
    "for i, r in enumerate(session.query(Network)):\n",
    "    serial_number = serials[r.image_id]\n",
    "    data.append([r.point_id, 2, serial_number, 2, r.x, r.y, r.image_id])\n",
    "df = pd.DataFrame(data, columns=['point_id','point_type', 'serialnumber', 'measure_type', 'x', 'y','image_index'])"
   ]
  },
  {
   "cell_type": "code",
   "execution_count": 27,
   "metadata": {
    "collapsed": true
   },
   "outputs": [],
   "source": [
    "imgs = np.unique(df.image_index.values)"
   ]
  },
  {
   "cell_type": "code",
   "execution_count": 51,
   "metadata": {
    "collapsed": true
   },
   "outputs": [],
   "source": [
    "f = np.unique(df.head(3200).image_index.values)"
   ]
  },
  {
   "cell_type": "code",
   "execution_count": 28,
   "metadata": {
    "collapsed": true
   },
   "outputs": [],
   "source": [
    "flist = [n['image_path'] for i, n in ncg.nodes(data='data') if i in imgs]"
   ]
  },
  {
   "cell_type": "code",
   "execution_count": 46,
   "metadata": {},
   "outputs": [
    {
     "data": {
      "text/plain": [
       "[(688, '/scratch/jlaura/ctx/cal/D14_032501_1900_XN_10N202W.cal.cub'),\n",
       " (814, '/scratch/jlaura/ctx/cal/P17_007553_1835_XN_03N203W.cal.cub'),\n",
       " (721, '/scratch/jlaura/ctx/cal/F04_037182_1886_XN_08N200W.cal.cub'),\n",
       " (943, '/scratch/jlaura/ctx/cal/P19_008410_1830_XI_03N205W.cal.cub'),\n",
       " (1048, '/scratch/jlaura/ctx/cal/P17_007566_1872_XN_07N198W.cal.cub'),\n",
       " (789, '/scratch/jlaura/ctx/cal/P02_001870_1869_XN_06N206W.cal.cub'),\n",
       " (717, '/scratch/jlaura/ctx/cal/G20_025908_1897_XN_09N206W.cal.cub'),\n",
       " (1116, '/scratch/jlaura/ctx/cal/G14_023811_1870_XN_07N197W.cal.cub'),\n",
       " (684, '/scratch/jlaura/ctx/cal/D02_028031_1907_XN_10N203W.cal.cub'),\n",
       " (689, '/scratch/jlaura/ctx/cal/G20_025934_1911_XI_11N197W.cal.cub'),\n",
       " (1094, '/scratch/jlaura/ctx/cal/P18_008146_1899_XN_09N196W.cal.cub'),\n",
       " (914, '/scratch/jlaura/ctx/cal/J04_046387_1839_XN_03N210W.cal.cub'),\n",
       " (1139, '/scratch/jlaura/ctx/cal/G18_025367_1858_XI_05N197W.cal.cub'),\n",
       " (800, '/scratch/jlaura/ctx/cal/F02_036602_1909_XN_10N204W.cal.cub'),\n",
       " (891, '/scratch/jlaura/ctx/cal/F04_037248_1902_XN_10N202W.cal.cub'),\n",
       " (729, '/scratch/jlaura/ctx/cal/J05_046848_1904_XN_10N196W.cal.cub'),\n",
       " (792, '/scratch/jlaura/ctx/cal/G10_021952_1907_XN_10N204W.cal.cub'),\n",
       " (1060, '/scratch/jlaura/ctx/cal/B21_017917_1850_XI_05N203W.cal.cub'),\n",
       " (801, '/scratch/jlaura/ctx/cal/F09_039332_1899_XN_09N203W.cal.cub'),\n",
       " (967, '/scratch/jlaura/ctx/cal/P03_002371_1888_XI_08N204W.cal.cub'),\n",
       " (715, '/scratch/jlaura/ctx/cal/J13_049881_1840_XN_04N203W.cal.cub'),\n",
       " (799, '/scratch/jlaura/ctx/cal/B01_010045_1878_XN_07N205W.cal.cub'),\n",
       " (655, '/scratch/jlaura/ctx/cal/P08_004006_1886_XI_08N202W.cal.cub'),\n",
       " (665, '/scratch/jlaura/ctx/cal/G04_019737_1912_XI_11N211W.cal.cub'),\n",
       " (892, '/scratch/jlaura/ctx/cal/P09_004349_1887_XI_08N205W.cal.cub'),\n",
       " (958, '/scratch/jlaura/ctx/cal/G20_026198_1888_XN_08N203W.cal.cub'),\n",
       " (728, '/scratch/jlaura/ctx/cal/G12_023020_1900_XN_10N202W.cal.cub'),\n",
       " (630, '/scratch/jlaura/ctx/cal/G17_025051_1838_XI_03N209W.cal.cub'),\n",
       " (794, '/scratch/jlaura/ctx/cal/D20_034967_1882_XI_08N210W.cal.cub'),\n",
       " (1099, '/scratch/jlaura/ctx/cal/P18_008212_1885_XN_08N198W.cal.cub'),\n",
       " (747, '/scratch/jlaura/ctx/cal/D17_033793_1865_XN_06N196W.cal.cub'),\n",
       " (832, '/scratch/jlaura/ctx/cal/G08_021464_1892_XN_09N202W.cal.cub'),\n",
       " (1081, '/scratch/jlaura/ctx/cal/B20_017337_1906_XN_10N207W.cal.cub'),\n",
       " (877, '/scratch/jlaura/ctx/cal/B21_017719_1888_XN_08N197W.cal.cub'),\n",
       " (590, '/scratch/jlaura/ctx/cal/J03_045965_1894_XN_09N209W.cal.cub'),\n",
       " (585, '/scratch/jlaura/ctx/cal/B17_016229_1890_XN_09N197W.cal.cub'),\n",
       " (699, '/scratch/jlaura/ctx/cal/G15_024022_1878_XI_07N196W.cal.cub'),\n",
       " (841, '/scratch/jlaura/ctx/cal/F23_044936_1855_XN_05N199W.cal.cub'),\n",
       " (1129, '/scratch/jlaura/ctx/cal/D02_028163_1804_XI_00N205W.cal.cub'),\n",
       " (606, '/scratch/jlaura/ctx/cal/B11_013961_1893_XI_09N199W.cal.cub'),\n",
       " (1031, '/scratch/jlaura/ctx/cal/P02_001672_1865_XI_06N203W.cal.cub'),\n",
       " (707, '/scratch/jlaura/ctx/cal/F12_040453_1861_XN_06N205W.cal.cub'),\n",
       " (941, '/scratch/jlaura/ctx/cal/F20_043710_1881_XN_08N210W.cal.cub'),\n",
       " (900, '/scratch/jlaura/ctx/cal/G20_026145_1879_XI_07N197W.cal.cub'),\n",
       " (846, '/scratch/jlaura/ctx/cal/G18_025143_1900_XN_10N202W.cal.cub'),\n",
       " (1131, '/scratch/jlaura/ctx/cal/B17_016203_1894_XN_09N207W.cal.cub'),\n",
       " (758, '/scratch/jlaura/ctx/cal/G23_027042_1893_XN_09N204W.cal.cub'),\n",
       " (607, '/scratch/jlaura/ctx/cal/P05_002872_1868_XI_06N200W.cal.cub'),\n",
       " (827, '/scratch/jlaura/ctx/cal/B20_017495_1892_XN_09N199W.cal.cub'),\n",
       " (837, '/scratch/jlaura/ctx/cal/F11_040176_1894_XN_09N204W.cal.cub'),\n",
       " (787, '/scratch/jlaura/ctx/cal/B17_016361_1871_XI_07N203W.cal.cub'),\n",
       " (734, '/scratch/jlaura/ctx/cal/G22_026778_1888_XN_08N198W.cal.cub'),\n",
       " (1045, '/scratch/jlaura/ctx/cal/B19_017205_1888_XN_08N203W.cal.cub'),\n",
       " (1018, '/scratch/jlaura/ctx/cal/P03_002226_1895_XI_09N203W.cal.cub'),\n",
       " (674, '/scratch/jlaura/ctx/cal/F02_036457_1888_XN_08N204W.cal.cub'),\n",
       " (984, '/scratch/jlaura/ctx/cal/G20_026053_1874_XN_07N206W.cal.cub'),\n",
       " (736, '/scratch/jlaura/ctx/cal/B21_017983_1866_XN_06N204W.cal.cub'),\n",
       " (910, '/scratch/jlaura/ctx/cal/G22_026686_1892_XN_09N205W.cal.cub'),\n",
       " (949, '/scratch/jlaura/ctx/cal/G13_023297_1900_XN_10N202W.cal.cub'),\n",
       " (1141, '/scratch/jlaura/ctx/cal/G19_025684_1882_XI_08N210W.cal.cub'),\n",
       " (730, '/scratch/jlaura/ctx/cal/F23_044712_1892_XN_09N203W.cal.cub'),\n",
       " (804, '/scratch/jlaura/ctx/cal/G21_026620_1881_XN_08N205W.cal.cub'),\n",
       " (605, '/scratch/jlaura/ctx/cal/P08_004204_1857_XI_05N204W.cal.cub'),\n",
       " (1117, '/scratch/jlaura/ctx/cal/P04_002648_1865_XI_06N206W.cal.cub'),\n",
       " (746, '/scratch/jlaura/ctx/cal/P22_009768_1878_XN_07N205W.cal.cub'),\n",
       " (757, '/scratch/jlaura/ctx/cal/B08_012814_1895_XN_09N203W.cal.cub'),\n",
       " (966, '/scratch/jlaura/ctx/cal/B17_016216_1893_XI_09N201W.cal.cub'),\n",
       " (843, '/scratch/jlaura/ctx/cal/B20_017363_1883_XN_08N197W.cal.cub'),\n",
       " (1056, '/scratch/jlaura/ctx/cal/G14_023521_1853_XI_05N198W.cal.cub'),\n",
       " (693, '/scratch/jlaura/ctx/cal/G10_022163_1827_XN_02N203W.cal.cub'),\n",
       " (737, '/scratch/jlaura/ctx/cal/P12_005694_1808_XI_00N205W.cal.cub'),\n",
       " (935, '/scratch/jlaura/ctx/cal/P06_003347_1894_XI_09N210W.cal.cub'),\n",
       " (628, '/scratch/jlaura/ctx/cal/B10_013671_1897_XN_09N203W.cal.cub'),\n",
       " (744, '/scratch/jlaura/ctx/cal/F17_042378_1887_XN_08N203W.cal.cub'),\n",
       " (1148, '/scratch/jlaura/ctx/cal/D18_034255_1838_XI_03N210W.cal.cub'),\n",
       " (1005, '/scratch/jlaura/ctx/cal/P21_009201_1834_XI_03N205W.cal.cub'),\n",
       " (641, '/scratch/jlaura/ctx/cal/F05_037670_1878_XN_07N202W.cal.cub'),\n",
       " (786, '/scratch/jlaura/ctx/cal/J06_047310_1843_XN_04N209W.cal.cub'),\n",
       " (826, '/scratch/jlaura/ctx/cal/P11_005364_1899_XN_09N196W.cal.cub'),\n",
       " (610, '/scratch/jlaura/ctx/cal/F04_037314_1939_XN_13N204W.cal.cub'),\n",
       " (1114, '/scratch/jlaura/ctx/cal/P12_005786_1878_XI_07N197W.cal.cub'),\n",
       " (916, '/scratch/jlaura/ctx/cal/P06_003531_1882_XI_08N195W.cal.cub'),\n",
       " (1052, '/scratch/jlaura/ctx/cal/B07_012194_1871_XI_07N198W.cal.cub'),\n",
       " (678, '/scratch/jlaura/ctx/cal/D21_035534_1838_XI_03N209W.cal.cub'),\n",
       " (1103, '/scratch/jlaura/ctx/cal/P08_004138_1878_XI_07N204W.cal.cub'),\n",
       " (1134, '/scratch/jlaura/ctx/cal/P08_004283_1890_XI_09N202W.cal.cub'),\n",
       " (850, '/scratch/jlaura/ctx/cal/B07_012260_1871_XI_07N198W.cal.cub'),\n",
       " (702, '/scratch/jlaura/ctx/cal/D18_034215_1874_XI_07N196W.cal.cub'),\n",
       " (647, '/scratch/jlaura/ctx/cal/G20_026066_1848_XN_04N199W.cal.cub'),\n",
       " (749, '/scratch/jlaura/ctx/cal/P01_001474_1878_XN_07N202W.cal.cub'),\n",
       " (712, '/scratch/jlaura/ctx/cal/D13_032356_1900_XN_10N202W.cal.cub'),\n",
       " (969, '/scratch/jlaura/ctx/cal/B20_017271_1870_XN_07N204W.cal.cub'),\n",
       " (740, '/scratch/jlaura/ctx/cal/P19_008344_1894_XN_09N203W.cal.cub'),\n",
       " (1012, '/scratch/jlaura/ctx/cal/B19_016849_1935_XI_13N204W.cal.cub'),\n",
       " (648, '/scratch/jlaura/ctx/cal/B12_014304_1893_XN_09N203W.cal.cub'),\n",
       " (1105, '/scratch/jlaura/ctx/cal/B01_009913_1922_XN_12N204W.cal.cub'),\n",
       " (1089, '/scratch/jlaura/ctx/cal/B07_012484_1880_XI_08N195W.cal.cub'),\n",
       " (1147, '/scratch/jlaura/ctx/cal/J07_047415_1912_XN_11N197W.cal.cub'),\n",
       " (857, '/scratch/jlaura/ctx/cal/F23_044791_1814_XN_01N199W.cal.cub'),\n",
       " (1121, '/scratch/jlaura/ctx/cal/J03_045820_1915_XN_11N210W.cal.cub'),\n",
       " (713, '/scratch/jlaura/ctx/cal/G20_026040_1878_XN_07N210W.cal.cub'),\n",
       " (1086, '/scratch/jlaura/ctx/cal/G04_019605_1920_XN_12N207W.cal.cub'),\n",
       " (587, '/scratch/jlaura/ctx/cal/D07_029864_1878_XN_07N205W.cal.cub'),\n",
       " (921, '/scratch/jlaura/ctx/cal/F01_036048_1855_XN_05N199W.cal.cub'),\n",
       " (631, '/scratch/jlaura/ctx/cal/D22_035903_1900_XN_10N202W.cal.cub'),\n",
       " (596, '/scratch/jlaura/ctx/cal/G21_026290_1877_XI_07N197W.cal.cub'),\n",
       " (1033, '/scratch/jlaura/ctx/cal/G16_024286_1909_XN_10N204W.cal.cub'),\n",
       " (1034, '/scratch/jlaura/ctx/cal/P07_003650_1890_XI_09N202W.cal.cub'),\n",
       " (1079, '/scratch/jlaura/ctx/cal/P11_005509_1914_XN_11N195W.cal.cub'),\n",
       " (667, '/scratch/jlaura/ctx/cal/B12_014370_1909_XI_10N204W.cal.cub'),\n",
       " (1009, '/scratch/jlaura/ctx/cal/P06_003241_1883_XI_08N195W.cal.cub'),\n",
       " (687, '/scratch/jlaura/ctx/cal/B10_013368_1876_XN_07N210W.cal.cub'),\n",
       " (1069, '/scratch/jlaura/ctx/cal/P17_007711_1870_XN_07N198W.cal.cub'),\n",
       " (748, '/scratch/jlaura/ctx/cal/B11_014093_1910_XI_11N204W.cal.cub'),\n",
       " (1014, '/scratch/jlaura/ctx/cal/B18_016506_1892_XI_09N199W.cal.cub'),\n",
       " (1002, '/scratch/jlaura/ctx/cal/P09_004560_1837_XI_03N205W.cal.cub'),\n",
       " (835, '/scratch/jlaura/ctx/cal/B09_013170_1883_XN_08N204W.cal.cub'),\n",
       " (901, '/scratch/jlaura/ctx/cal/D16_033543_1838_XI_03N210W.cal.cub'),\n",
       " (1077, '/scratch/jlaura/ctx/cal/P04_002661_1891_XI_09N203W.cal.cub'),\n",
       " (961, '/scratch/jlaura/ctx/cal/P06_003294_1895_XI_09N203W.cal.cub'),\n",
       " (1010, '/scratch/jlaura/ctx/cal/J06_047336_1888_XN_08N202W.cal.cub'),\n",
       " (690, '/scratch/jlaura/ctx/cal/D18_034426_1877_XN_07N196W.cal.cub'),\n",
       " (1142, '/scratch/jlaura/ctx/cal/G23_027240_1838_XI_03N209W.cal.cub'),\n",
       " (893, '/scratch/jlaura/ctx/cal/P15_007052_1871_XI_07N203W.cal.cub'),\n",
       " (771, '/scratch/jlaura/ctx/cal/G21_026251_1838_XI_03N209W.cal.cub'),\n",
       " (937, '/scratch/jlaura/ctx/cal/B08_012590_1884_XN_08N208W.cal.cub'),\n",
       " (915, '/scratch/jlaura/ctx/cal/D07_030009_1895_XN_09N204W.cal.cub'),\n",
       " (1073, '/scratch/jlaura/ctx/cal/F04_037459_1900_XN_10N202W.cal.cub'),\n",
       " (593, '/scratch/jlaura/ctx/cal/P19_008265_1859_XN_05N205W.cal.cub'),\n",
       " (643, '/scratch/jlaura/ctx/cal/B07_012458_1831_XN_03N205W.cal.cub'),\n",
       " (839, '/scratch/jlaura/ctx/cal/B19_016902_1913_XN_11N210W.cal.cub'),\n",
       " (751, '/scratch/jlaura/ctx/cal/J13_049736_1879_XN_07N206W.cal.cub'),\n",
       " (741, '/scratch/jlaura/ctx/cal/P01_001606_1897_XI_09N203W.cal.cub'),\n",
       " (956, '/scratch/jlaura/ctx/cal/J05_046690_1892_XN_09N203W.cal.cub'),\n",
       " (685, '/scratch/jlaura/ctx/cal/D20_034980_1909_XN_10N204W.cal.cub'),\n",
       " (1137, '/scratch/jlaura/ctx/cal/P07_003716_1887_XI_08N204W.cal.cub'),\n",
       " (1070, '/scratch/jlaura/ctx/cal/F16_042167_1888_XN_08N203W.cal.cub'),\n",
       " (1112, '/scratch/jlaura/ctx/cal/P02_001804_1889_XI_08N204W.cal.cub'),\n",
       " (700, '/scratch/jlaura/ctx/cal/G04_019618_1898_XN_09N202W.cal.cub'),\n",
       " (819, '/scratch/jlaura/ctx/cal/P14_006485_1863_XN_06N202W.cal.cub'),\n",
       " (978, '/scratch/jlaura/ctx/cal/P08_004019_1913_XI_11N197W.cal.cub'),\n",
       " (989, '/scratch/jlaura/ctx/cal/B20_017469_1825_XN_02N210W.cal.cub'),\n",
       " (993, '/scratch/jlaura/ctx/cal/P14_006696_1902_XI_10N204W.cal.cub'),\n",
       " (1095, '/scratch/jlaura/ctx/cal/D20_035191_1888_XN_08N204W.cal.cub'),\n",
       " (742, '/scratch/jlaura/ctx/cal/B11_013882_1872_XI_07N203W.cal.cub'),\n",
       " (825, '/scratch/jlaura/ctx/cal/B11_013974_1874_XI_07N195W.cal.cub'),\n",
       " (1126, '/scratch/jlaura/ctx/cal/P11_005351_1895_XN_09N201W.cal.cub'),\n",
       " (589, '/scratch/jlaura/ctx/cal/D20_035033_1882_XN_08N210W.cal.cub'),\n",
       " (788, '/scratch/jlaura/ctx/cal/F01_036193_1896_XN_09N199W.cal.cub'),\n",
       " (704, '/scratch/jlaura/ctx/cal/B19_016862_1890_XN_09N197W.cal.cub'),\n",
       " (1029, '/scratch/jlaura/ctx/cal/B21_017838_1873_XN_07N204W.cal.cub'),\n",
       " (720, '/scratch/jlaura/ctx/cal/D10_031288_1886_XN_08N204W.cal.cub'),\n",
       " (860, '/scratch/jlaura/ctx/cal/B10_013526_1897_XN_09N203W.cal.cub'),\n",
       " (855, '/scratch/jlaura/ctx/cal/G05_020185_1892_XN_09N203W.cal.cub'),\n",
       " (1025, '/scratch/jlaura/ctx/cal/B18_016493_1850_XI_05N203W.cal.cub'),\n",
       " (938, '/scratch/jlaura/ctx/cal/G19_025473_1839_XI_03N210W.cal.cub'),\n",
       " (876, '/scratch/jlaura/ctx/cal/P02_001949_1883_XN_08N203W.cal.cub'),\n",
       " (912, '/scratch/jlaura/ctx/cal/P17_007751_1855_XN_05N210W.cal.cub'),\n",
       " (711, '/scratch/jlaura/ctx/cal/G16_024378_1881_XN_08N197W.cal.cub'),\n",
       " (777, '/scratch/jlaura/ctx/cal/T01_000801_1867_XN_06N202W.cal.cub'),\n",
       " (649, '/scratch/jlaura/ctx/cal/T01_000867_1873_XN_07N202W.cal.cub'),\n",
       " (816, '/scratch/jlaura/ctx/cal/D15_033200_1876_XN_07N206W.cal.cub'),\n",
       " (852, '/scratch/jlaura/ctx/cal/D22_035969_1802_XN_00N203W.cal.cub'),\n",
       " (735, '/scratch/jlaura/ctx/cal/P13_006129_1879_XN_07N202W.cal.cub'),\n",
       " (600, '/scratch/jlaura/ctx/cal/B09_013104_1894_XN_09N204W.cal.cub'),\n",
       " (904, '/scratch/jlaura/ctx/cal/F06_038000_1836_XI_03N209W.cal.cub'),\n",
       " (581, '/scratch/jlaura/ctx/cal/F17_042391_1881_XN_08N198W.cal.cub'),\n",
       " (1058, '/scratch/jlaura/ctx/cal/B20_017482_1863_XN_06N205W.cal.cub'),\n",
       " (836, '/scratch/jlaura/ctx/cal/G18_025064_1832_XN_03N204W.cal.cub'),\n",
       " (834, '/scratch/jlaura/ctx/cal/D01_027609_1906_XN_10N204W.cal.cub'),\n",
       " (807, '/scratch/jlaura/ctx/cal/F19_043301_1845_XN_04N204W.cal.cub'),\n",
       " (672, '/scratch/jlaura/ctx/cal/B19_017060_1889_XN_08N203W.cal.cub'),\n",
       " (615, '/scratch/jlaura/ctx/cal/D02_028084_1845_XN_04N209W.cal.cub'),\n",
       " (889, '/scratch/jlaura/ctx/cal/D19_034492_1856_XN_05N198W.cal.cub'),\n",
       " (584, '/scratch/jlaura/ctx/cal/B16_016018_1875_XI_07N195W.cal.cub'),\n",
       " (902, '/scratch/jlaura/ctx/cal/D19_034782_1879_XI_07N197W.cal.cub'),\n",
       " (1083, '/scratch/jlaura/ctx/cal/G17_024708_1887_XN_08N204W.cal.cub'),\n",
       " (818, '/scratch/jlaura/ctx/cal/D21_035481_1900_XN_10N202W.cal.cub'),\n",
       " (918, '/scratch/jlaura/ctx/cal/F08_038844_1856_XN_05N201W.cal.cub'),\n",
       " (708, '/scratch/jlaura/ctx/cal/P17_007500_1884_XN_08N196W.cal.cub'),\n",
       " (890, '/scratch/jlaura/ctx/cal/D10_031024_1900_XI_10N196W.cal.cub'),\n",
       " (880, '/scratch/jlaura/ctx/cal/B07_012445_1876_XN_07N210W.cal.cub'),\n",
       " (1080, '/scratch/jlaura/ctx/cal/P14_006498_1892_XN_09N197W.cal.cub'),\n",
       " (591, '/scratch/jlaura/ctx/cal/P06_003373_1885_XN_08N199W.cal.cub'),\n",
       " (621, '/scratch/jlaura/ctx/cal/J07_047468_1908_XN_10N204W.cal.cub'),\n",
       " (1061, '/scratch/jlaura/ctx/cal/P20_008990_1859_XN_05N205W.cal.cub'),\n",
       " (1130, '/scratch/jlaura/ctx/cal/P13_005984_1854_XI_05N203W.cal.cub'),\n",
       " (808, '/scratch/jlaura/ctx/cal/B20_017627_1934_XI_13N204W.cal.cub'),\n",
       " (1143, '/scratch/jlaura/ctx/cal/P16_007434_1916_XI_11N195W.cal.cub'),\n",
       " (642, '/scratch/jlaura/ctx/cal/J01_045068_1814_XN_01N199W.cal.cub'),\n",
       " (881, '/scratch/jlaura/ctx/cal/G21_026422_1888_XN_08N198W.cal.cub'),\n",
       " (598, '/scratch/jlaura/ctx/cal/P20_008845_1894_XN_09N203W.cal.cub'),\n",
       " (1087, '/scratch/jlaura/ctx/cal/P05_002793_1873_XN_07N205W.cal.cub'),\n",
       " (614, '/scratch/jlaura/ctx/cal/B09_013025_1877_XN_07N205W.cal.cub'),\n",
       " (875, '/scratch/jlaura/ctx/cal/P02_002015_1858_XN_05N204W.cal.cub'),\n",
       " (609, '/scratch/jlaura/ctx/cal/P05_003083_1883_XI_08N204W.cal.cub'),\n",
       " (1001, '/scratch/jlaura/ctx/cal/B20_017416_1869_XN_06N204W.cal.cub'),\n",
       " (817, '/scratch/jlaura/ctx/cal/B19_017218_1882_XN_08N197W.cal.cub'),\n",
       " (611, '/scratch/jlaura/ctx/cal/J03_045912_1910_XN_11N202W.cal.cub'),\n",
       " (654, '/scratch/jlaura/ctx/cal/P18_008067_1870_XN_07N198W.cal.cub'),\n",
       " (997, '/scratch/jlaura/ctx/cal/P04_002582_1882_XI_08N205W.cal.cub'),\n",
       " (954, '/scratch/jlaura/ctx/cal/P16_007250_1841_XI_04N209W.cal.cub'),\n",
       " (1038, '/scratch/jlaura/ctx/cal/P01_001540_1889_XI_08N204W.cal.cub'),\n",
       " (793, '/scratch/jlaura/ctx/cal/B17_016163_1875_XI_07N195W.cal.cub')]"
      ]
     },
     "execution_count": 46,
     "metadata": {},
     "output_type": "execute_result"
    }
   ],
   "source": [
    "[(i, n['image_path']) for i, n in ncg.nodes(data='data') if i in f]"
   ]
  },
  {
   "cell_type": "code",
   "execution_count": 15,
   "metadata": {
    "collapsed": true
   },
   "outputs": [],
   "source": [
    "for i, g in df.groupby('point_id'):\n",
    "    for j, h in g.groupby('serialnumber'):\n",
    "        if len(h) > 1:\n",
    "            print(h)"
   ]
  },
  {
   "cell_type": "code",
   "execution_count": 16,
   "metadata": {
    "collapsed": true
   },
   "outputs": [],
   "source": [
    "for i, g in df.groupby('point_id'):\n",
    "    if len(g) < 2:\n",
    "        print(g)\n",
    "        break"
   ]
  },
  {
   "cell_type": "code",
   "execution_count": 29,
   "metadata": {
    "collapsed": true
   },
   "outputs": [],
   "source": [
    "write_filelist(flist,'ctx.lis')"
   ]
  },
  {
   "cell_type": "code",
   "execution_count": 43,
   "metadata": {
    "collapsed": true
   },
   "outputs": [],
   "source": [
    "ndf = df[~df.index.isin(df.query('(x < 0) or  (y < 0)').index)]"
   ]
  },
  {
   "cell_type": "code",
   "execution_count": 45,
   "metadata": {
    "collapsed": true
   },
   "outputs": [],
   "source": [
    "for i, g in ndf.groupby('point_id'):\n",
    "    if len(g) < 2:\n",
    "        print(g)\n",
    "        break"
   ]
  },
  {
   "cell_type": "code",
   "execution_count": 77,
   "metadata": {},
   "outputs": [
    {
     "name": "stdout",
     "output_type": "stream",
     "text": [
      "30823\n"
     ]
    }
   ],
   "source": [
    "to_isis('/home/jlaura/autocnet_server/notebooks/ctx.net', ndf, serials, mode='wb', targetname='Mars')\n",
    "write_filelist(flist,'ctx.lis')"
   ]
  },
  {
   "cell_type": "code",
   "execution_count": 50,
   "metadata": {
    "collapsed": true
   },
   "outputs": [],
   "source": [
    "sizes = {}\n",
    "for i, n in ncg.nodes(data='data'):\n",
    "    sizes[i] = n.geodata.raster_size"
   ]
  },
  {
   "cell_type": "code",
   "execution_count": 76,
   "metadata": {},
   "outputs": [
    {
     "data": {
      "text/html": [
       "<div>\n",
       "<style scoped>\n",
       "    .dataframe tbody tr th:only-of-type {\n",
       "        vertical-align: middle;\n",
       "    }\n",
       "\n",
       "    .dataframe tbody tr th {\n",
       "        vertical-align: top;\n",
       "    }\n",
       "\n",
       "    .dataframe thead th {\n",
       "        text-align: right;\n",
       "    }\n",
       "</style>\n",
       "<table border=\"1\" class=\"dataframe\">\n",
       "  <thead>\n",
       "    <tr style=\"text-align: right;\">\n",
       "      <th></th>\n",
       "      <th>point_id</th>\n",
       "      <th>point_type</th>\n",
       "      <th>serialnumber</th>\n",
       "      <th>measure_type</th>\n",
       "      <th>x</th>\n",
       "      <th>y</th>\n",
       "      <th>image_index</th>\n",
       "    </tr>\n",
       "  </thead>\n",
       "  <tbody>\n",
       "  </tbody>\n",
       "</table>\n",
       "</div>"
      ],
      "text/plain": [
       "Empty DataFrame\n",
       "Columns: [point_id, point_type, serialnumber, measure_type, x, y, image_index]\n",
       "Index: []"
      ]
     },
     "execution_count": 76,
     "metadata": {},
     "output_type": "execute_result"
    }
   ],
   "source": [
    "ndf[ndf.x > 100000]"
   ]
  },
  {
   "cell_type": "code",
   "execution_count": 72,
   "metadata": {},
   "outputs": [
    {
     "data": {
      "text/plain": [
       "0         True\n",
       "1         True\n",
       "2         True\n",
       "3         True\n",
       "4         True\n",
       "5         True\n",
       "6         True\n",
       "7         True\n",
       "8         True\n",
       "9         True\n",
       "10        True\n",
       "11        True\n",
       "12        True\n",
       "13        True\n",
       "14        True\n",
       "15        True\n",
       "16        True\n",
       "17        True\n",
       "18        True\n",
       "19        True\n",
       "20        True\n",
       "21        True\n",
       "22        True\n",
       "23        True\n",
       "24        True\n",
       "25        True\n",
       "26        True\n",
       "27        True\n",
       "28        True\n",
       "29        True\n",
       "          ... \n",
       "148251    True\n",
       "148252    True\n",
       "148253    True\n",
       "148254    True\n",
       "148255    True\n",
       "148256    True\n",
       "148257    True\n",
       "148258    True\n",
       "148259    True\n",
       "148260    True\n",
       "148261    True\n",
       "148262    True\n",
       "148263    True\n",
       "148264    True\n",
       "148265    True\n",
       "148266    True\n",
       "148267    True\n",
       "148268    True\n",
       "148269    True\n",
       "148270    True\n",
       "148271    True\n",
       "148272    True\n",
       "148273    True\n",
       "148275    True\n",
       "148276    True\n",
       "148277    True\n",
       "148278    True\n",
       "148279    True\n",
       "148280    True\n",
       "148281    True\n",
       "Length: 146110, dtype: bool"
      ]
     },
     "execution_count": 72,
     "metadata": {},
     "output_type": "execute_result"
    }
   ],
   "source": [
    "def get_ext(r, sizes):\n",
    "    ext = sizes[r.image_index]\n",
    "    if r.x > ext[0] or r.y > ext[1]:\n",
    "        return False\n",
    "    return True\n",
    "ext_mask = ndf.apply(get_ext, args=(sizes,), axis=1)\n",
    "ext_mask"
   ]
  },
  {
   "cell_type": "code",
   "execution_count": 74,
   "metadata": {
    "collapsed": true
   },
   "outputs": [],
   "source": [
    "ndf = ndf[ext_mask]"
   ]
  },
  {
   "cell_type": "code",
   "execution_count": 78,
   "metadata": {
    "collapsed": true
   },
   "outputs": [],
   "source": [
    "for i, g in ndf.groupby('point_id'):\n",
    "    if len(g) < 2:\n",
    "        print(g)\n",
    "        break"
   ]
  },
  {
   "cell_type": "code",
   "execution_count": 80,
   "metadata": {},
   "outputs": [
    {
     "data": {
      "text/plain": [
       "143970"
      ]
     },
     "execution_count": 80,
     "metadata": {},
     "output_type": "execute_result"
    }
   ],
   "source": [
    "len(ndf)"
   ]
  }
 ],
 "metadata": {
  "kernelspec": {
   "display_name": "Camera Testing",
   "language": "python",
   "name": "ct"
  },
  "language_info": {
   "codemirror_mode": {
    "name": "ipython",
    "version": 3
   },
   "file_extension": ".py",
   "mimetype": "text/x-python",
   "name": "python",
   "nbconvert_exporter": "python",
   "pygments_lexer": "ipython3",
   "version": "3.6.3"
  }
 },
 "nbformat": 4,
 "nbformat_minor": 2
}
