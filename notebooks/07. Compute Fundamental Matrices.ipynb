{
 "cells": [
  {
   "cell_type": "code",
   "execution_count": 1,
   "metadata": {
    "collapsed": true
   },
   "outputs": [],
   "source": [
    "import os\n",
    "os.environ['autocnet_config'] = '/home/jlaura/autocnet_projects/demo.yml'\n",
    "\n",
    "import yaml\n",
    "#Load the config file\n",
    "with open(os.environ['autocnet_config'], 'r') as f:\n",
    "    config = yaml.load(f)\n",
    "\n",
    "from autocnet_server.graph.graph import NetworkCandidateGraph"
   ]
  },
  {
   "cell_type": "code",
   "execution_count": 2,
   "metadata": {
    "collapsed": true
   },
   "outputs": [],
   "source": [
    "ncg = NetworkCandidateGraph.from_database()"
   ]
  },
  {
   "cell_type": "code",
   "execution_count": 3,
   "metadata": {},
   "outputs": [
    {
     "data": {
      "text/plain": [
       "72"
      ]
     },
     "execution_count": 3,
     "metadata": {},
     "output_type": "execute_result"
    }
   ],
   "source": [
    "ncg.compute_fundamental_matrices()"
   ]
  },
  {
   "cell_type": "code",
   "execution_count": 5,
   "metadata": {},
   "outputs": [
    {
     "name": "stdout",
     "output_type": "stream",
     "text": [
      "1\n",
      "0\n"
     ]
    }
   ],
   "source": [
    "wq = config['redis']['working_queue']\n",
    "pq = config['redis']['processing_queue']\n",
    "cq = config['redis']['completed_queue']\n",
    "print(ncg.redis_queue.llen(wq))\n",
    "print(ncg.redis_queue.llen(pq))\n",
    "#ncg.redis_queue.flushdb()"
   ]
  },
  {
   "cell_type": "code",
   "execution_count": 15,
   "metadata": {},
   "outputs": [
    {
     "data": {
      "text/plain": [
       "b'{\"sidx\": 18, \"didx\": 22, \"time\": \"\", \"task\": \"compute_fundamental\", \"param_step\": 0, \"count\": 0, \"success\": false, \"tolerance\": 0.3, \"reproj_threshold\": 10, \"initial_x_size\": 500, \"initial_y_size\": 500, \"corr_x_size\": 40, \"corr_y_size\": 40, \"walltime\": \"00:10:00\", \"callback\": \"compute_fundamental_callback\", \"max_time\": 1526680410.7509327}'"
      ]
     },
     "execution_count": 15,
     "metadata": {},
     "output_type": "execute_result"
    }
   ],
   "source": [
    "ncg.redis_queue.rpop(wq)"
   ]
  },
  {
   "cell_type": "code",
   "execution_count": 17,
   "metadata": {},
   "outputs": [
    {
     "data": {
      "text/plain": [
       "defaultdict(dict,\n",
       "            {'fundamental_matrix': {'callback': 'compute_fundamental_callback',\n",
       "              'corr_x_size': 40,\n",
       "              'corr_y_size': 40,\n",
       "              'count': 4,\n",
       "              'didx': 20,\n",
       "              'initial_x_size': 500,\n",
       "              'initial_y_size': 500,\n",
       "              'param_step': 0,\n",
       "              'reproj_threshold': 10,\n",
       "              'sidx': 19,\n",
       "              'success': False,\n",
       "              'task': 'compute_fundamental',\n",
       "              'time': 1526680005.7348542,\n",
       "              'tolerance': 0.3,\n",
       "              'walltime': '00:10:00'}})"
      ]
     },
     "execution_count": 17,
     "metadata": {},
     "output_type": "execute_result"
    }
   ],
   "source": [
    "ncg.edges[(19,20)]['data'].job_status"
   ]
  },
  {
   "cell_type": "code",
   "execution_count": 6,
   "metadata": {},
   "outputs": [
    {
     "data": {
      "text/plain": [
       "{'a': 1, 'b': 2}"
      ]
     },
     "execution_count": 6,
     "metadata": {},
     "output_type": "execute_result"
    }
   ],
   "source": [
    "a = {'a':1}\n",
    "b = {'b':2}\n",
    "{**a, **b}"
   ]
  },
  {
   "cell_type": "code",
   "execution_count": null,
   "metadata": {
    "collapsed": true
   },
   "outputs": [],
   "source": []
  }
 ],
 "metadata": {
  "kernelspec": {
   "display_name": "Camera Testing",
   "language": "python",
   "name": "ct"
  },
  "language_info": {
   "codemirror_mode": {
    "name": "ipython",
    "version": 3
   },
   "file_extension": ".py",
   "mimetype": "text/x-python",
   "name": "python",
   "nbconvert_exporter": "python",
   "pygments_lexer": "ipython3",
   "version": "3.6.3"
  }
 },
 "nbformat": 4,
 "nbformat_minor": 2
}
