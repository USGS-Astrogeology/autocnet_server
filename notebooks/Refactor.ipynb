{
 "cells": [
  {
   "cell_type": "code",
   "execution_count": 1,
   "metadata": {},
   "outputs": [
    {
     "name": "stderr",
     "output_type": "stream",
     "text": [
      "/home/jlaura/anaconda3/envs/ct/lib/python3.6/site-packages/h5py/__init__.py:36: FutureWarning: Conversion of the second argument of issubdtype from `float` to `np.floating` is deprecated. In future, it will be treated as `np.float64 == np.dtype(float).type`.\n",
      "  from ._conv import register_converters as _register_converters\n"
     ]
    }
   ],
   "source": [
    "from autocnet_server.graph.graph import NetworkCandidateGraph\n",
    "\n",
    "import glob\n",
    "\n",
    "#ncg = NetworkCandidateGraph.from_filelist(glob.glob('/scratch/jlaura/ctx_demo/cal/*.cub'))\n",
    "ncg = NetworkCandidateGraph.from_database()"
   ]
  },
  {
   "cell_type": "code",
   "execution_count": null,
   "metadata": {
    "collapsed": true
   },
   "outputs": [],
   "source": [
    "extractor_params = {'compute_descriptor': True,\n",
    "                    'float_descriptors': True,\n",
    "                    'edge_thresh':2.5,\n",
    "                    'peak_thresh': 0.0001,\n",
    "                    'verbose': False}\n",
    "\n",
    "ncg.apply('extract_features_with_tiling',\n",
    "          on='node',\n",
    "          extractor_method='vlfeat',\n",
    "          extractor_parameters=extractor_params, \n",
    "          tilesize=5001)"
   ]
  },
  {
   "cell_type": "code",
   "execution_count": 2,
   "metadata": {},
   "outputs": [],
   "source": [
    "sub = ncg.subgraph(nodes=[80, 86, 90])"
   ]
  },
  {
   "cell_type": "code",
   "execution_count": null,
   "metadata": {
    "collapsed": true
   },
   "outputs": [],
   "source": [
    "sub.apply('ring_match', on='edge', ring_radius=100, max_radius=1200, target_points=25, tolerance_val=0.1)"
   ]
  },
  {
   "cell_type": "code",
   "execution_count": 3,
   "metadata": {},
   "outputs": [
    {
     "data": {
      "text/plain": [
       "3"
      ]
     },
     "execution_count": 3,
     "metadata": {},
     "output_type": "execute_result"
    }
   ],
   "source": [
    "sub.apply('compute_fundamental_matrix')"
   ]
  },
  {
   "cell_type": "code",
   "execution_count": 3,
   "metadata": {},
   "outputs": [
    {
     "data": {
      "text/plain": [
       "3"
      ]
     },
     "execution_count": 3,
     "metadata": {},
     "output_type": "execute_result"
    }
   ],
   "source": [
    "sub.apply('compute_fundamental_error')"
   ]
  },
  {
   "cell_type": "code",
   "execution_count": null,
   "metadata": {
    "collapsed": true
   },
   "outputs": [],
   "source": [
    "sub.apply('compute_fundamental_error', method='projection')"
   ]
  },
  {
   "cell_type": "code",
   "execution_count": null,
   "metadata": {
    "collapsed": true
   },
   "outputs": [],
   "source": [
    "sub.apply('add_coordinates_to_matches', on='edge')"
   ]
  },
  {
   "cell_type": "code",
   "execution_count": null,
   "metadata": {
    "collapsed": true
   },
   "outputs": [],
   "source": [
    "sub.apply('project_matches', on='edge', args=(3396190, 3376200,), srid=949900)"
   ]
  },
  {
   "cell_type": "code",
   "execution_count": null,
   "metadata": {
    "collapsed": true
   },
   "outputs": [],
   "source": [
    "sub.apply('subpixel_register', method='phase', template_size=250, search_size=250)\n"
   ]
  },
  {
   "cell_type": "code",
   "execution_count": null,
   "metadata": {
    "collapsed": true
   },
   "outputs": [],
   "source": [
    "sub.apply('subpixel_register', method='template', template_size=41, search_size=41)"
   ]
  },
  {
   "cell_type": "markdown",
   "metadata": {},
   "source": [
    "CLEAN KEYS STILL TODO"
   ]
  },
  {
   "cell_type": "code",
   "execution_count": null,
   "metadata": {
    "collapsed": true
   },
   "outputs": [],
   "source": [
    "sub.apply('compute_fundamental_matrix')"
   ]
  },
  {
   "cell_type": "code",
   "execution_count": null,
   "metadata": {
    "collapsed": true
   },
   "outputs": [],
   "source": [
    "sub.apply('compute_fundamental_error')"
   ]
  },
  {
   "cell_type": "code",
   "execution_count": 5,
   "metadata": {},
   "outputs": [
    {
     "data": {
      "text/plain": [
       "3"
      ]
     },
     "execution_count": 5,
     "metadata": {},
     "output_type": "execute_result"
    }
   ],
   "source": [
    "sub.apply('compute_fundamental_error', method='projection')"
   ]
  },
  {
   "cell_type": "code",
   "execution_count": 6,
   "metadata": {},
   "outputs": [
    {
     "data": {
      "text/html": [
       "<div>\n",
       "<style scoped>\n",
       "    .dataframe tbody tr th:only-of-type {\n",
       "        vertical-align: middle;\n",
       "    }\n",
       "\n",
       "    .dataframe tbody tr th {\n",
       "        vertical-align: top;\n",
       "    }\n",
       "\n",
       "    .dataframe thead th {\n",
       "        text-align: right;\n",
       "    }\n",
       "</style>\n",
       "<table border=\"1\" class=\"dataframe\">\n",
       "  <thead>\n",
       "    <tr style=\"text-align: right;\">\n",
       "      <th></th>\n",
       "      <th>phase</th>\n",
       "      <th>rmse</th>\n",
       "      <th>correlation</th>\n",
       "      <th>fundamental_error</th>\n",
       "      <th>fundamental_equality</th>\n",
       "    </tr>\n",
       "  </thead>\n",
       "  <tbody>\n",
       "    <tr>\n",
       "      <th>28913</th>\n",
       "      <td>0.017753</td>\n",
       "      <td>2.356350e-21</td>\n",
       "      <td>0.855969</td>\n",
       "      <td>1.964096e-04</td>\n",
       "      <td>1.964096e-04</td>\n",
       "    </tr>\n",
       "    <tr>\n",
       "      <th>28914</th>\n",
       "      <td>0.019625</td>\n",
       "      <td>1.513699e-18</td>\n",
       "      <td>0.614317</td>\n",
       "      <td>-5.385720e-05</td>\n",
       "      <td>-5.385720e-05</td>\n",
       "    </tr>\n",
       "    <tr>\n",
       "      <th>28915</th>\n",
       "      <td>0.027376</td>\n",
       "      <td>1.825291e-18</td>\n",
       "      <td>0.138374</td>\n",
       "      <td>3.302450e-05</td>\n",
       "      <td>3.302450e-05</td>\n",
       "    </tr>\n",
       "    <tr>\n",
       "      <th>28916</th>\n",
       "      <td>0.016801</td>\n",
       "      <td>3.352702e-19</td>\n",
       "      <td>0.846051</td>\n",
       "      <td>1.068490e-02</td>\n",
       "      <td>1.068490e-02</td>\n",
       "    </tr>\n",
       "    <tr>\n",
       "      <th>28917</th>\n",
       "      <td>0.042080</td>\n",
       "      <td>4.908376e-20</td>\n",
       "      <td>0.987383</td>\n",
       "      <td>-9.000000e-09</td>\n",
       "      <td>-9.000000e-09</td>\n",
       "    </tr>\n",
       "    <tr>\n",
       "      <th>28918</th>\n",
       "      <td>0.029176</td>\n",
       "      <td>1.030105e-18</td>\n",
       "      <td>0.881517</td>\n",
       "      <td>-4.084376e-04</td>\n",
       "      <td>-4.084376e-04</td>\n",
       "    </tr>\n",
       "    <tr>\n",
       "      <th>28919</th>\n",
       "      <td>0.029861</td>\n",
       "      <td>5.885101e-18</td>\n",
       "      <td>0.890201</td>\n",
       "      <td>1.683565e-04</td>\n",
       "      <td>-6.400000e-09</td>\n",
       "    </tr>\n",
       "    <tr>\n",
       "      <th>28920</th>\n",
       "      <td>0.021542</td>\n",
       "      <td>1.681013e-18</td>\n",
       "      <td>0.617322</td>\n",
       "      <td>9.900340e-05</td>\n",
       "      <td>1.683565e-04</td>\n",
       "    </tr>\n",
       "    <tr>\n",
       "      <th>28921</th>\n",
       "      <td>0.016194</td>\n",
       "      <td>1.053159e-18</td>\n",
       "      <td>0.728366</td>\n",
       "      <td>-8.302870e-05</td>\n",
       "      <td>-2.140311e-04</td>\n",
       "    </tr>\n",
       "    <tr>\n",
       "      <th>28922</th>\n",
       "      <td>0.021918</td>\n",
       "      <td>2.811616e-18</td>\n",
       "      <td>0.928061</td>\n",
       "      <td>1.363393e-04</td>\n",
       "      <td>2.567689e-04</td>\n",
       "    </tr>\n",
       "    <tr>\n",
       "      <th>28923</th>\n",
       "      <td>0.021622</td>\n",
       "      <td>3.545728e-19</td>\n",
       "      <td>0.807929</td>\n",
       "      <td>-1.070000e-08</td>\n",
       "      <td>8.113970e-05</td>\n",
       "    </tr>\n",
       "    <tr>\n",
       "      <th>28924</th>\n",
       "      <td>0.029772</td>\n",
       "      <td>2.603865e-18</td>\n",
       "      <td>0.921652</td>\n",
       "      <td>-6.400000e-09</td>\n",
       "      <td>2.059932e-04</td>\n",
       "    </tr>\n",
       "    <tr>\n",
       "      <th>28925</th>\n",
       "      <td>0.031534</td>\n",
       "      <td>2.582671e-19</td>\n",
       "      <td>0.911347</td>\n",
       "      <td>-2.140311e-04</td>\n",
       "      <td>9.900340e-05</td>\n",
       "    </tr>\n",
       "    <tr>\n",
       "      <th>28926</th>\n",
       "      <td>0.027969</td>\n",
       "      <td>1.329675e-18</td>\n",
       "      <td>0.848148</td>\n",
       "      <td>2.567689e-04</td>\n",
       "      <td>-8.302870e-05</td>\n",
       "    </tr>\n",
       "    <tr>\n",
       "      <th>28927</th>\n",
       "      <td>0.020866</td>\n",
       "      <td>2.376724e-18</td>\n",
       "      <td>0.587314</td>\n",
       "      <td>8.113970e-05</td>\n",
       "      <td>1.363393e-04</td>\n",
       "    </tr>\n",
       "    <tr>\n",
       "      <th>28928</th>\n",
       "      <td>0.026004</td>\n",
       "      <td>1.830806e-18</td>\n",
       "      <td>0.777088</td>\n",
       "      <td>2.059932e-04</td>\n",
       "      <td>-1.070000e-08</td>\n",
       "    </tr>\n",
       "    <tr>\n",
       "      <th>28929</th>\n",
       "      <td>0.022264</td>\n",
       "      <td>2.561651e-18</td>\n",
       "      <td>0.824583</td>\n",
       "      <td>-1.840885e-04</td>\n",
       "      <td>-5.352940e-05</td>\n",
       "    </tr>\n",
       "    <tr>\n",
       "      <th>28930</th>\n",
       "      <td>0.018633</td>\n",
       "      <td>4.299867e-18</td>\n",
       "      <td>0.926069</td>\n",
       "      <td>-8.416770e-05</td>\n",
       "      <td>-4.315115e-04</td>\n",
       "    </tr>\n",
       "    <tr>\n",
       "      <th>28931</th>\n",
       "      <td>0.025878</td>\n",
       "      <td>5.451264e-20</td>\n",
       "      <td>0.868171</td>\n",
       "      <td>4.465654e-04</td>\n",
       "      <td>1.726320e-05</td>\n",
       "    </tr>\n",
       "    <tr>\n",
       "      <th>28932</th>\n",
       "      <td>0.015783</td>\n",
       "      <td>2.267104e-18</td>\n",
       "      <td>0.583546</td>\n",
       "      <td>2.504294e-04</td>\n",
       "      <td>2.504294e-04</td>\n",
       "    </tr>\n",
       "    <tr>\n",
       "      <th>28933</th>\n",
       "      <td>0.023684</td>\n",
       "      <td>4.176293e-18</td>\n",
       "      <td>0.872554</td>\n",
       "      <td>-1.130000e-08</td>\n",
       "      <td>-1.130000e-08</td>\n",
       "    </tr>\n",
       "    <tr>\n",
       "      <th>28934</th>\n",
       "      <td>0.023787</td>\n",
       "      <td>1.357544e-18</td>\n",
       "      <td>0.751056</td>\n",
       "      <td>-2.950175e-04</td>\n",
       "      <td>-1.230000e-08</td>\n",
       "    </tr>\n",
       "    <tr>\n",
       "      <th>28935</th>\n",
       "      <td>0.016661</td>\n",
       "      <td>3.073100e-22</td>\n",
       "      <td>0.706443</td>\n",
       "      <td>-7.006680e-05</td>\n",
       "      <td>-2.950175e-04</td>\n",
       "    </tr>\n",
       "    <tr>\n",
       "      <th>28936</th>\n",
       "      <td>0.013728</td>\n",
       "      <td>2.668400e-19</td>\n",
       "      <td>0.510267</td>\n",
       "      <td>-7.801420e-05</td>\n",
       "      <td>-7.006680e-05</td>\n",
       "    </tr>\n",
       "    <tr>\n",
       "      <th>28937</th>\n",
       "      <td>0.022323</td>\n",
       "      <td>1.073676e-17</td>\n",
       "      <td>0.884734</td>\n",
       "      <td>8.510331e-04</td>\n",
       "      <td>-7.801420e-05</td>\n",
       "    </tr>\n",
       "    <tr>\n",
       "      <th>28938</th>\n",
       "      <td>0.018908</td>\n",
       "      <td>3.157325e-18</td>\n",
       "      <td>0.823459</td>\n",
       "      <td>-5.352940e-05</td>\n",
       "      <td>-1.840885e-04</td>\n",
       "    </tr>\n",
       "    <tr>\n",
       "      <th>28939</th>\n",
       "      <td>0.029065</td>\n",
       "      <td>3.173878e-18</td>\n",
       "      <td>0.824597</td>\n",
       "      <td>-4.315115e-04</td>\n",
       "      <td>-8.416770e-05</td>\n",
       "    </tr>\n",
       "    <tr>\n",
       "      <th>28940</th>\n",
       "      <td>0.028638</td>\n",
       "      <td>2.949978e-19</td>\n",
       "      <td>0.952326</td>\n",
       "      <td>1.726320e-05</td>\n",
       "      <td>8.510331e-04</td>\n",
       "    </tr>\n",
       "    <tr>\n",
       "      <th>28941</th>\n",
       "      <td>0.028627</td>\n",
       "      <td>-2.920121e-20</td>\n",
       "      <td>0.879121</td>\n",
       "      <td>-1.230000e-08</td>\n",
       "      <td>4.465654e-04</td>\n",
       "    </tr>\n",
       "    <tr>\n",
       "      <th>28942</th>\n",
       "      <td>0.037595</td>\n",
       "      <td>8.046344e-18</td>\n",
       "      <td>0.973054</td>\n",
       "      <td>-1.020000e-08</td>\n",
       "      <td>-1.020000e-08</td>\n",
       "    </tr>\n",
       "    <tr>\n",
       "      <th>28943</th>\n",
       "      <td>0.018500</td>\n",
       "      <td>-3.657941e-20</td>\n",
       "      <td>0.984905</td>\n",
       "      <td>-6.400000e-09</td>\n",
       "      <td>-6.400000e-09</td>\n",
       "    </tr>\n",
       "  </tbody>\n",
       "</table>\n",
       "</div>"
      ],
      "text/plain": [
       "          phase          rmse  correlation  fundamental_error  \\\n",
       "28913  0.017753  2.356350e-21     0.855969       1.964096e-04   \n",
       "28914  0.019625  1.513699e-18     0.614317      -5.385720e-05   \n",
       "28915  0.027376  1.825291e-18     0.138374       3.302450e-05   \n",
       "28916  0.016801  3.352702e-19     0.846051       1.068490e-02   \n",
       "28917  0.042080  4.908376e-20     0.987383      -9.000000e-09   \n",
       "28918  0.029176  1.030105e-18     0.881517      -4.084376e-04   \n",
       "28919  0.029861  5.885101e-18     0.890201       1.683565e-04   \n",
       "28920  0.021542  1.681013e-18     0.617322       9.900340e-05   \n",
       "28921  0.016194  1.053159e-18     0.728366      -8.302870e-05   \n",
       "28922  0.021918  2.811616e-18     0.928061       1.363393e-04   \n",
       "28923  0.021622  3.545728e-19     0.807929      -1.070000e-08   \n",
       "28924  0.029772  2.603865e-18     0.921652      -6.400000e-09   \n",
       "28925  0.031534  2.582671e-19     0.911347      -2.140311e-04   \n",
       "28926  0.027969  1.329675e-18     0.848148       2.567689e-04   \n",
       "28927  0.020866  2.376724e-18     0.587314       8.113970e-05   \n",
       "28928  0.026004  1.830806e-18     0.777088       2.059932e-04   \n",
       "28929  0.022264  2.561651e-18     0.824583      -1.840885e-04   \n",
       "28930  0.018633  4.299867e-18     0.926069      -8.416770e-05   \n",
       "28931  0.025878  5.451264e-20     0.868171       4.465654e-04   \n",
       "28932  0.015783  2.267104e-18     0.583546       2.504294e-04   \n",
       "28933  0.023684  4.176293e-18     0.872554      -1.130000e-08   \n",
       "28934  0.023787  1.357544e-18     0.751056      -2.950175e-04   \n",
       "28935  0.016661  3.073100e-22     0.706443      -7.006680e-05   \n",
       "28936  0.013728  2.668400e-19     0.510267      -7.801420e-05   \n",
       "28937  0.022323  1.073676e-17     0.884734       8.510331e-04   \n",
       "28938  0.018908  3.157325e-18     0.823459      -5.352940e-05   \n",
       "28939  0.029065  3.173878e-18     0.824597      -4.315115e-04   \n",
       "28940  0.028638  2.949978e-19     0.952326       1.726320e-05   \n",
       "28941  0.028627 -2.920121e-20     0.879121      -1.230000e-08   \n",
       "28942  0.037595  8.046344e-18     0.973054      -1.020000e-08   \n",
       "28943  0.018500 -3.657941e-20     0.984905      -6.400000e-09   \n",
       "\n",
       "       fundamental_equality  \n",
       "28913          1.964096e-04  \n",
       "28914         -5.385720e-05  \n",
       "28915          3.302450e-05  \n",
       "28916          1.068490e-02  \n",
       "28917         -9.000000e-09  \n",
       "28918         -4.084376e-04  \n",
       "28919         -6.400000e-09  \n",
       "28920          1.683565e-04  \n",
       "28921         -2.140311e-04  \n",
       "28922          2.567689e-04  \n",
       "28923          8.113970e-05  \n",
       "28924          2.059932e-04  \n",
       "28925          9.900340e-05  \n",
       "28926         -8.302870e-05  \n",
       "28927          1.363393e-04  \n",
       "28928         -1.070000e-08  \n",
       "28929         -5.352940e-05  \n",
       "28930         -4.315115e-04  \n",
       "28931          1.726320e-05  \n",
       "28932          2.504294e-04  \n",
       "28933         -1.130000e-08  \n",
       "28934         -1.230000e-08  \n",
       "28935         -2.950175e-04  \n",
       "28936         -7.006680e-05  \n",
       "28937         -7.801420e-05  \n",
       "28938         -1.840885e-04  \n",
       "28939         -8.416770e-05  \n",
       "28940          8.510331e-04  \n",
       "28941          4.465654e-04  \n",
       "28942         -1.020000e-08  \n",
       "28943         -6.400000e-09  "
      ]
     },
     "execution_count": 6,
     "metadata": {},
     "output_type": "execute_result"
    }
   ],
   "source": [
    "e = ncg.edges[(80,90)]['data']\n",
    "c = e.costs\n",
    "c"
   ]
  },
  {
   "cell_type": "code",
   "execution_count": 3,
   "metadata": {},
   "outputs": [
    {
     "data": {
      "text/plain": [
       "3"
      ]
     },
     "execution_count": 3,
     "metadata": {},
     "output_type": "execute_result"
    }
   ],
   "source": [
    "sub.apply('subpixel_register', method='phase', template_size=250, search_size=250)\n"
   ]
  },
  {
   "cell_type": "code",
   "execution_count": 3,
   "metadata": {},
   "outputs": [
    {
     "data": {
      "text/plain": [
       "3"
      ]
     },
     "execution_count": 3,
     "metadata": {},
     "output_type": "execute_result"
    }
   ],
   "source": [
    "sub.apply('subpixel_register', method='template', template_size=41, search_size=41)"
   ]
  },
  {
   "cell_type": "code",
   "execution_count": 4,
   "metadata": {},
   "outputs": [
    {
     "data": {
      "text/plain": [
       "3"
      ]
     },
     "execution_count": 4,
     "metadata": {},
     "output_type": "execute_result"
    }
   ],
   "source": [
    "sub.apply('ring_match', on='edge', ring_radius=100, max_radius=1200, target_points=25, tolerance_val=0.1)"
   ]
  },
  {
   "cell_type": "code",
   "execution_count": 9,
   "metadata": {
    "scrolled": false
   },
   "outputs": [
    {
     "data": {
      "text/plain": [
       "3"
      ]
     },
     "execution_count": 9,
     "metadata": {},
     "output_type": "execute_result"
    }
   ],
   "source": [
    "sub.apply('add_coordinates_to_matches', on='edge')"
   ]
  },
  {
   "cell_type": "code",
   "execution_count": 10,
   "metadata": {},
   "outputs": [
    {
     "data": {
      "text/plain": [
       "3"
      ]
     },
     "execution_count": 10,
     "metadata": {},
     "output_type": "execute_result"
    }
   ],
   "source": [
    "sub.apply('project_matches', on='edge', args=(3396190, 3376200,), srid=949900)"
   ]
  },
  {
   "cell_type": "code",
   "execution_count": null,
   "metadata": {
    "collapsed": true
   },
   "outputs": [],
   "source": [
    "\n",
    "for i, m in e.matches():\n",
    "    "
   ]
  },
  {
   "cell_type": "code",
   "execution_count": 7,
   "metadata": {
    "scrolled": true
   },
   "outputs": [
    {
     "name": "stdout",
     "output_type": "stream",
     "text": [
      "Populating the interactive namespace from numpy and matplotlib\n"
     ]
    },
    {
     "name": "stderr",
     "output_type": "stream",
     "text": [
      "/home/jlaura/anaconda3/envs/ct/lib/python3.6/site-packages/IPython/core/magics/pylab.py:160: UserWarning: pylab import has clobbered these variables: ['e']\n",
      "`%matplotlib` prevents importing * from pylab and numpy\n",
      "  \"\\n`%matplotlib` prevents importing * from pylab and numpy\"\n"
     ]
    },
    {
     "data": {
      "text/plain": [
       "<matplotlib.axes._subplots.AxesSubplot at 0x2b4b7e4f5eb8>"
      ]
     },
     "execution_count": 7,
     "metadata": {},
     "output_type": "execute_result"
    },
    {
     "data": {
      "image/png": "[encoded data removed]",
      "text/plain": [
       "<Figure size 432x288 with 1 Axes>"
      ]
     },
     "metadata": {},
     "output_type": "display_data"
    }
   ],
   "source": [
    "%pylab inline\n",
    "e = ncg.edges[(80,90)]['data']\n",
    "e.plot()"
   ]
  },
  {
   "cell_type": "code",
   "execution_count": 2,
   "metadata": {},
   "outputs": [
    {
     "name": "stdout",
     "output_type": "stream",
     "text": [
      "Populating the interactive namespace from numpy and matplotlib\n"
     ]
    },
    {
     "data": {
      "text/plain": [
       "<matplotlib.axes._subplots.AxesSubplot at 0x2aba7c73f080>"
      ]
     },
     "execution_count": 2,
     "metadata": {},
     "output_type": "execute_result"
    },
    {
     "data": {
      "image/png": "[encoded data removed]",
      "text/plain": [
       "<Figure size 432x288 with 1 Axes>"
      ]
     },
     "metadata": {},
     "output_type": "display_data"
    }
   ],
   "source": [
    "%pylab inline\n",
    "ncg.plot()"
   ]
  },
  {
   "cell_type": "code",
   "execution_count": 3,
   "metadata": {},
   "outputs": [
    {
     "data": {
      "text/plain": [
       "13"
      ]
     },
     "execution_count": 3,
     "metadata": {},
     "output_type": "execute_result"
    }
   ],
   "source": []
  },
  {
   "cell_type": "code",
   "execution_count": 2,
   "metadata": {},
   "outputs": [
    {
     "name": "stdout",
     "output_type": "stream",
     "text": [
      "281649\n",
      "275547\n",
      "219474\n",
      "235634\n",
      "343987\n",
      "287393\n",
      "178723\n",
      "                  x             y        size     angle            xm  \\\n",
      "0       3132.314453      2.350554    1.854443  3.466712 -3.076745e+06   \n",
      "1       3600.207520      1.613599    2.030431  0.359307 -3.077733e+06   \n",
      "2        264.785187      3.236057    2.121787  0.091931 -3.070725e+06   \n",
      "3        264.785187      3.236057    2.121787  5.546999 -3.070725e+06   \n",
      "4       3828.991943      2.784405    2.271488  0.168449 -3.078214e+06   \n",
      "5       4097.959473      3.157985    2.193892  3.233910 -3.078779e+06   \n",
      "6        229.928970      4.090526    1.789183  4.130303 -3.070652e+06   \n",
      "7        229.928970      4.090526    1.789183  6.050991 -3.070652e+06   \n",
      "8       2987.099854      4.390316    1.759109  3.513083 -3.076436e+06   \n",
      "9       3491.323730      3.593335    2.010599  3.637729 -3.077502e+06   \n",
      "10      3491.323730      3.593335    2.010599  5.818378 -3.077502e+06   \n",
      "11      3497.545410      3.725355    1.976395  0.192132 -3.077514e+06   \n",
      "12      3497.545410      3.725355    1.976395  3.516844 -3.077514e+06   \n",
      "13      3508.279297      4.205204    1.795038  2.158120 -3.077537e+06   \n",
      "14      3801.917480      3.684067    1.859168  2.389572 -3.078156e+06   \n",
      "15      3801.917480      3.684067    1.859168  3.317424 -3.078156e+06   \n",
      "16      3903.539795      3.704140    2.171323  3.190767 -3.078369e+06   \n",
      "17      4274.216797      3.795749    2.068241  0.766771 -3.079146e+06   \n",
      "18      3897.655273      5.417110    2.026990  3.220011 -3.078355e+06   \n",
      "19      4746.438965      4.594279    2.180887  0.042800 -3.080129e+06   \n",
      "20      4971.015137      4.845591    1.912053  3.937874 -3.080592e+06   \n",
      "21      2314.454102      6.466444    1.705395  1.320882 -3.075011e+06   \n",
      "22      2314.454102      6.466444    1.705395  2.995258 -3.075011e+06   \n",
      "23      1347.954224      7.513700    2.155197  0.178126 -3.072972e+06   \n",
      "24      1347.954224      7.513700    2.155197  5.907657 -3.072972e+06   \n",
      "25      2530.411133      6.670236    2.365539  2.281884 -3.075467e+06   \n",
      "26      2530.411133      6.670236    2.365539  4.339864 -3.075467e+06   \n",
      "27      3008.587402      7.513904    2.129832  0.032402 -3.076477e+06   \n",
      "28      3643.545654      7.422178    2.133006  2.708440 -3.077818e+06   \n",
      "29      4683.121094      7.301847    1.826674  6.274770 -3.079995e+06   \n",
      "...             ...           ...         ...       ...           ...   \n",
      "179047  2930.168701  10839.975586   86.466736  1.825208 -3.063720e+06   \n",
      "179048   262.576569  11230.935547   72.636856  0.029892 -3.057632e+06   \n",
      "179049  1163.823608  11312.026367   80.684105  0.400394 -3.059411e+06   \n",
      "179050  2635.041992  11920.219727   73.058029  2.571908 -3.061777e+06   \n",
      "179051  4170.333984   9399.663086  105.807266  3.354671 -3.068080e+06   \n",
      "179052  2662.944824   9526.467773   99.418373  4.994693 -3.064741e+06   \n",
      "179053   625.738037   9563.593750   95.984970  1.301438 -3.060404e+06   \n",
      "179054   625.738037   9563.593750   95.984970  6.025034 -3.060404e+06   \n",
      "179055  1955.037598  10208.335938  100.044724  6.242499 -3.062419e+06   \n",
      "179056   570.700989  10691.518555   98.270599  0.505280 -3.058927e+06   \n",
      "179057  4270.113281  11002.507812   94.067314  2.190516 -3.066354e+06   \n",
      "179058  2780.990479  11053.986328  109.625267  1.642910 -3.063144e+06   \n",
      "179059  3355.151123  11303.846680  103.929253  3.648774 -3.064057e+06   \n",
      "179060   466.374054  11406.116211  101.989395  0.130616 -3.057840e+06   \n",
      "179061  4493.083008  11516.031250   92.354088  2.531086 -3.066196e+06   \n",
      "179062  4180.049316  11598.110352  103.695740  2.701787 -3.065440e+06   \n",
      "179063  1154.725220  10143.777344  133.186966  0.395673 -3.060809e+06   \n",
      "179064  4291.181641  10648.347656  140.804657  2.511045 -3.066828e+06   \n",
      "179065   360.776367  12081.148438  133.007431  0.250233 -3.056795e+06   \n",
      "179066  3395.427490  12149.637695  138.428925  3.402843 -3.063107e+06   \n",
      "179067  1702.025146  10426.409180  147.336136  0.251062 -3.061620e+06   \n",
      "179068  1702.025146  10426.409180  147.336136  0.913326 -3.061620e+06   \n",
      "179069  2428.760254  10733.020508  157.804230  1.250057 -3.062788e+06   \n",
      "179070   443.535553  11033.849609  150.910248  0.225008 -3.058247e+06   \n",
      "179071  3659.691650  11072.771484  175.593552  2.709270 -3.064983e+06   \n",
      "179072  2724.004883  11746.106445  173.388794  2.909283 -3.062180e+06   \n",
      "179073  4463.902832  11830.625000  152.957367  3.114848 -3.065749e+06   \n",
      "179074  2689.121094   9774.749023  209.803879  4.866062 -3.064497e+06   \n",
      "179075  2193.607666  10012.320312  196.261688  6.244310 -3.063161e+06   \n",
      "179076  2524.090820  11176.802734  204.446487  1.266875 -3.062449e+06   \n",
      "\n",
      "                  ym             zm  \n",
      "0       1.342268e+06  512778.864464  \n",
      "1       1.339883e+06  513079.998302  \n",
      "2       1.356687e+06  510936.165835  \n",
      "3       1.356687e+06  510936.165835  \n",
      "4       1.338719e+06  513236.151946  \n",
      "5       1.337351e+06  513408.997277  \n",
      "6       1.356858e+06  510918.480287  \n",
      "7       1.356858e+06  510918.480287  \n",
      "8       1.343008e+06  512696.587140  \n",
      "9       1.340438e+06  513020.790199  \n",
      "10      1.340438e+06  513020.790199  \n",
      "11      1.340407e+06  513026.317904  \n",
      "12      1.340407e+06  513026.317904  \n",
      "13      1.340352e+06  513033.287416  \n",
      "14      1.338857e+06  513223.334708  \n",
      "15      1.338857e+06  513223.334708  \n",
      "16      1.338340e+06  513289.390957  \n",
      "17      1.336457e+06  513529.931292  \n",
      "18      1.338370e+06  513294.062896  \n",
      "19      1.334072e+06  513836.705226  \n",
      "20      1.332945e+06  513982.676827  \n",
      "21      1.346431e+06  512271.863124  \n",
      "22      1.346431e+06  512271.863124  \n",
      "23      1.351314e+06  511652.932632  \n",
      "24      1.351314e+06  511652.932632  \n",
      "25      1.345334e+06  512414.472262  \n",
      "26      1.345334e+06  512414.472262  \n",
      "27      1.342900e+06  512729.526751  \n",
      "28      1.339664e+06  513141.111367  \n",
      "29      1.334392e+06  513810.493098  \n",
      "...              ...            ...  \n",
      "179047  1.346138e+06  575930.487774  \n",
      "179048  1.359668e+06  576497.600233  \n",
      "179049  1.355213e+06  577537.414204  \n",
      "179050  1.347903e+06  582033.019644  \n",
      "179051  1.339459e+06  568334.851474  \n",
      "179052  1.347182e+06  568098.593941  \n",
      "179053  1.357468e+06  567005.497069  \n",
      "179054  1.357468e+06  567005.497069  \n",
      "179055  1.350953e+06  571615.185461  \n",
      "179056  1.358019e+06  573543.086836  \n",
      "179057  1.339340e+06  577741.318281  \n",
      "179058  1.346951e+06  577081.514205  \n",
      "179059  1.344078e+06  578910.289583  \n",
      "179060  1.358707e+06  577642.849172  \n",
      "179061  1.338329e+06  580875.620221  \n",
      "179062  1.339938e+06  581153.227543  \n",
      "179063  1.354976e+06  570726.239952  \n",
      "179064  1.339150e+06  575688.285094  \n",
      "179065  1.359389e+06  581512.790150  \n",
      "179066  1.344072e+06  583866.834302  \n",
      "179067  1.352288e+06  572722.105973  \n",
      "179068  1.352288e+06  572722.105973  \n",
      "179069  1.348671e+06  574976.457589  \n",
      "179070  1.358730e+06  575461.143621  \n",
      "179071  1.342467e+06  577759.358209  \n",
      "179072  1.347406e+06  581074.928437  \n",
      "179073  1.338552e+06  582695.713103  \n",
      "179074  1.347110e+06  569565.029408  \n",
      "179075  1.349692e+06  570626.010125  \n",
      "179076  1.348292e+06  577630.473593  \n",
      "\n",
      "[178723 rows x 7 columns]\n",
      "268315\n",
      "402649\n",
      "287664\n",
      "248599\n",
      "436616\n",
      "246932\n"
     ]
    }
   ],
   "source": [
    "for i, n in ncg.nodes(data='data'):\n",
    "    print(n.nkeypoints)\n",
    "    if n.nkeypoints < 200000:\n",
    "        print(n.keypoints)"
   ]
  },
  {
   "cell_type": "code",
   "execution_count": 3,
   "metadata": {},
   "outputs": [
    {
     "name": "stdout",
     "output_type": "stream",
     "text": [
      "(82, \n",
      "        NodeID: 82\n",
      "        Image Name: /scratch/jlaura/ctx_demo/cal/G20_026198_1888_XN_08N203W.cal.cub\n",
      "        Image PATH: /scratch/jlaura/ctx_demo/cal/G20_026198_1888_XN_08N203W.cal.cub\n",
      "        Number Keypoints: 248599\n",
      "        Available Masks : Empty DataFrame\n",
      "Columns: []\n",
      "Index: []\n",
      "        Type: <class 'autocnet_server.graph.graph.NetworkNode'>\n",
      "        )\n",
      "(90, \n",
      "        NodeID: 90\n",
      "        Image Name: /scratch/jlaura/ctx_demo/cal/G03_019262_1888_XN_08N203W.cal.cub\n",
      "        Image PATH: /scratch/jlaura/ctx_demo/cal/G03_019262_1888_XN_08N203W.cal.cub\n",
      "        Number Keypoints: 246932\n",
      "        Available Masks : Empty DataFrame\n",
      "Columns: []\n",
      "Index: []\n",
      "        Type: <class 'autocnet_server.graph.graph.NetworkNode'>\n",
      "        )\n",
      "(80, \n",
      "        NodeID: 80\n",
      "        Image Name: /scratch/jlaura/ctx_demo/cal/P02_001949_1883_XN_08N203W.cal.cub\n",
      "        Image PATH: /scratch/jlaura/ctx_demo/cal/P02_001949_1883_XN_08N203W.cal.cub\n",
      "        Number Keypoints: 275547\n",
      "        Available Masks : Empty DataFrame\n",
      "Columns: []\n",
      "Index: []\n",
      "        Type: <class 'autocnet_server.graph.graph.NetworkNode'>\n",
      "        )\n",
      "(86, \n",
      "        NodeID: 86\n",
      "        Image Name: /scratch/jlaura/ctx_demo/cal/B12_014304_1893_XN_09N203W.cal.cub\n",
      "        Image PATH: /scratch/jlaura/ctx_demo/cal/B12_014304_1893_XN_09N203W.cal.cub\n",
      "        Number Keypoints: 178723\n",
      "        Available Masks : Empty DataFrame\n",
      "Columns: []\n",
      "Index: []\n",
      "        Type: <class 'autocnet_server.graph.graph.NetworkNode'>\n",
      "        )\n",
      "(84, \n",
      "        NodeID: 84\n",
      "        Image Name: /scratch/jlaura/ctx_demo/cal/F17_042378_1887_XN_08N203W.cal.cub\n",
      "        Image PATH: /scratch/jlaura/ctx_demo/cal/F17_042378_1887_XN_08N203W.cal.cub\n",
      "        Number Keypoints: 287393\n",
      "        Available Masks : Empty DataFrame\n",
      "Columns: []\n",
      "Index: []\n",
      "        Type: <class 'autocnet_server.graph.graph.NetworkNode'>\n",
      "        )\n",
      "(85, \n",
      "        NodeID: 85\n",
      "        Image Name: /scratch/jlaura/ctx_demo/cal/P01_001606_1897_XI_09N203W.cal.cub\n",
      "        Image PATH: /scratch/jlaura/ctx_demo/cal/P01_001606_1897_XI_09N203W.cal.cub\n",
      "        Number Keypoints: 343987\n",
      "        Available Masks : Empty DataFrame\n",
      "Columns: []\n",
      "Index: []\n",
      "        Type: <class 'autocnet_server.graph.graph.NetworkNode'>\n",
      "        )\n",
      "(87, \n",
      "        NodeID: 87\n",
      "        Image Name: /scratch/jlaura/ctx_demo/cal/P04_002661_1891_XI_09N203W.cal.cub\n",
      "        Image PATH: /scratch/jlaura/ctx_demo/cal/P04_002661_1891_XI_09N203W.cal.cub\n",
      "        Number Keypoints: 219474\n",
      "        Available Masks : Empty DataFrame\n",
      "Columns: []\n",
      "Index: []\n",
      "        Type: <class 'autocnet_server.graph.graph.NetworkNode'>\n",
      "        )\n",
      "(79, \n",
      "        NodeID: 79\n",
      "        Image Name: /scratch/jlaura/ctx_demo/cal/G01_018550_1888_XN_08N203W.cal.cub\n",
      "        Image PATH: /scratch/jlaura/ctx_demo/cal/G01_018550_1888_XN_08N203W.cal.cub\n",
      "        Number Keypoints: 235634\n",
      "        Available Masks : Empty DataFrame\n",
      "Columns: []\n",
      "Index: []\n",
      "        Type: <class 'autocnet_server.graph.graph.NetworkNode'>\n",
      "        )\n",
      "(83, \n",
      "        NodeID: 83\n",
      "        Image Name: /scratch/jlaura/ctx_demo/cal/P06_003294_1895_XI_09N203W.cal.cub\n",
      "        Image PATH: /scratch/jlaura/ctx_demo/cal/P06_003294_1895_XI_09N203W.cal.cub\n",
      "        Number Keypoints: 402649\n",
      "        Available Masks : Empty DataFrame\n",
      "Columns: []\n",
      "Index: []\n",
      "        Type: <class 'autocnet_server.graph.graph.NetworkNode'>\n",
      "        )\n",
      "(89, \n",
      "        NodeID: 89\n",
      "        Image Name: /scratch/jlaura/ctx_demo/cal/B19_017060_1889_XN_08N203W.cal.cub\n",
      "        Image PATH: /scratch/jlaura/ctx_demo/cal/B19_017060_1889_XN_08N203W.cal.cub\n",
      "        Number Keypoints: 268315\n",
      "        Available Masks : Empty DataFrame\n",
      "Columns: []\n",
      "Index: []\n",
      "        Type: <class 'autocnet_server.graph.graph.NetworkNode'>\n",
      "        )\n",
      "(88, \n",
      "        NodeID: 88\n",
      "        Image Name: /scratch/jlaura/ctx_demo/cal/B19_017205_1888_XN_08N203W.cal.cub\n",
      "        Image PATH: /scratch/jlaura/ctx_demo/cal/B19_017205_1888_XN_08N203W.cal.cub\n",
      "        Number Keypoints: 281649\n",
      "        Available Masks : Empty DataFrame\n",
      "Columns: []\n",
      "Index: []\n",
      "        Type: <class 'autocnet_server.graph.graph.NetworkNode'>\n",
      "        )\n",
      "(91, \n",
      "        NodeID: 91\n",
      "        Image Name: /scratch/jlaura/ctx_demo/cal/F16_042167_1888_XN_08N203W.cal.cub\n",
      "        Image PATH: /scratch/jlaura/ctx_demo/cal/F16_042167_1888_XN_08N203W.cal.cub\n",
      "        Number Keypoints: 287664\n",
      "        Available Masks : Empty DataFrame\n",
      "Columns: []\n",
      "Index: []\n",
      "        Type: <class 'autocnet_server.graph.graph.NetworkNode'>\n",
      "        )\n",
      "(81, \n",
      "        NodeID: 81\n",
      "        Image Name: /scratch/jlaura/ctx_demo/cal/P03_002226_1895_XI_09N203W.cal.cub\n",
      "        Image PATH: /scratch/jlaura/ctx_demo/cal/P03_002226_1895_XI_09N203W.cal.cub\n",
      "        Number Keypoints: 436616\n",
      "        Available Masks : Empty DataFrame\n",
      "Columns: []\n",
      "Index: []\n",
      "        Type: <class 'autocnet_server.graph.graph.NetworkNode'>\n",
      "        )\n"
     ]
    },
    {
     "data": {
      "text/plain": [
       "13"
      ]
     },
     "execution_count": 3,
     "metadata": {},
     "output_type": "execute_result"
    }
   ],
   "source": [
    "ncg.apply('project_keypoints', on='node')"
   ]
  },
  {
   "cell_type": "code",
   "execution_count": 4,
   "metadata": {},
   "outputs": [
    {
     "name": "stdout",
     "output_type": "stream",
     "text": [
      "Populating the interactive namespace from numpy and matplotlib\n"
     ]
    },
    {
     "data": {
      "text/plain": [
       "<matplotlib.axes._subplots.AxesSubplot at 0x2ad530287b00>"
      ]
     },
     "execution_count": 4,
     "metadata": {},
     "output_type": "execute_result"
    },
    {
     "data": {
      "image/png": "[encoded data removed]",
      "text/plain": [
       "<Figure size 432x288 with 1 Axes>"
      ]
     },
     "metadata": {},
     "output_type": "display_data"
    }
   ],
   "source": [
    "%pylab inline\n",
    "sub = ncg.subgraph(nodes=[80, 86, 90])\n",
    "sub.apply('ring_match', on='edge', ring_radius=100, max_radius=1200, target_points=25, tolerance_val=0.1)"
   ]
  },
  {
   "cell_type": "code",
   "execution_count": 6,
   "metadata": {},
   "outputs": [
    {
     "ename": "TypeError",
     "evalue": "ring_match is not callable.",
     "output_type": "error",
     "traceback": [
      "\u001b[0;31m---------------------------------------------------------------------------\u001b[0m",
      "\u001b[0;31mTypeError\u001b[0m                                 Traceback (most recent call last)",
      "\u001b[0;32m<ipython-input-6-c73007da4763>\u001b[0m in \u001b[0;36m<module>\u001b[0;34m()\u001b[0m\n\u001b[0;32m----> 1\u001b[0;31m \u001b[0msub\u001b[0m\u001b[0;34m.\u001b[0m\u001b[0mapply\u001b[0m\u001b[0;34m(\u001b[0m\u001b[0;34m'ring_match'\u001b[0m\u001b[0;34m,\u001b[0m \u001b[0mon\u001b[0m\u001b[0;34m=\u001b[0m\u001b[0;34m'edge'\u001b[0m\u001b[0;34m,\u001b[0m \u001b[0mring_radius\u001b[0m\u001b[0;34m=\u001b[0m\u001b[0;36m100\u001b[0m\u001b[0;34m,\u001b[0m \u001b[0mmax_radius\u001b[0m\u001b[0;34m=\u001b[0m\u001b[0;36m1200\u001b[0m\u001b[0;34m,\u001b[0m \u001b[0mtarget_points\u001b[0m\u001b[0;34m=\u001b[0m\u001b[0;36m25\u001b[0m\u001b[0;34m,\u001b[0m \u001b[0mtolerance_val\u001b[0m\u001b[0;34m=\u001b[0m\u001b[0;36m0.1\u001b[0m\u001b[0;34m)\u001b[0m\u001b[0;34m\u001b[0m\u001b[0m\n\u001b[0m",
      "\u001b[0;32m~/autocnet/autocnet/graph/network.py\u001b[0m in \u001b[0;36mapply\u001b[0;34m(self, function, on, out, args, **kwargs)\u001b[0m\n\u001b[1;32m    569\u001b[0m \u001b[0;34m\u001b[0m\u001b[0m\n\u001b[1;32m    570\u001b[0m         \u001b[0;32mif\u001b[0m \u001b[0;32mnot\u001b[0m \u001b[0mcallable\u001b[0m\u001b[0;34m(\u001b[0m\u001b[0mfunction\u001b[0m\u001b[0;34m)\u001b[0m\u001b[0;34m:\u001b[0m\u001b[0;34m\u001b[0m\u001b[0m\n\u001b[0;32m--> 571\u001b[0;31m             \u001b[0;32mraise\u001b[0m \u001b[0mTypeError\u001b[0m\u001b[0;34m(\u001b[0m\u001b[0;34m'{} is not callable.'\u001b[0m\u001b[0;34m.\u001b[0m\u001b[0mformat\u001b[0m\u001b[0;34m(\u001b[0m\u001b[0mfunction\u001b[0m\u001b[0;34m)\u001b[0m\u001b[0;34m)\u001b[0m\u001b[0;34m\u001b[0m\u001b[0m\n\u001b[0m\u001b[1;32m    572\u001b[0m \u001b[0;34m\u001b[0m\u001b[0m\n\u001b[1;32m    573\u001b[0m         \u001b[0mres\u001b[0m \u001b[0;34m=\u001b[0m \u001b[0;34m[\u001b[0m\u001b[0;34m]\u001b[0m\u001b[0;34m\u001b[0m\u001b[0m\n",
      "\u001b[0;31mTypeError\u001b[0m: ring_match is not callable."
     ]
    }
   ],
   "source": []
  },
  {
   "cell_type": "code",
   "execution_count": null,
   "metadata": {
    "collapsed": true
   },
   "outputs": [],
   "source": []
  }
 ],
 "metadata": {
  "kernelspec": {
   "display_name": "Camera Testing",
   "language": "python",
   "name": "ct"
  },
  "language_info": {
   "codemirror_mode": {
    "name": "ipython",
    "version": 3
   },
   "file_extension": ".py",
   "mimetype": "text/x-python",
   "name": "python",
   "nbconvert_exporter": "python",
   "pygments_lexer": "ipython3",
   "version": "3.6.5"
  }
 },
 "nbformat": 4,
 "nbformat_minor": 2
}
