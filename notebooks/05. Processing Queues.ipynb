{
 "cells": [
  {
   "cell_type": "code",
   "execution_count": 8,
   "metadata": {
    "collapsed": true
   },
   "outputs": [],
   "source": [
    "import os\n",
    "os.environ['autocnet_config'] = '/home/jlaura/autocnet_projects/demo.yml'\n",
    "from autocnet_server.graph.graph import NetworkCandidateGraph\n",
    "\n",
    "#Load the config file\n",
    "with open(os.environ['autocnet_config'], 'r') as f:\n",
    "    config = yaml.load(f)"
   ]
  },
  {
   "cell_type": "code",
   "execution_count": 9,
   "metadata": {},
   "outputs": [],
   "source": [
    "ncg = NetworkCandidateGraph.from_database()"
   ]
  },
  {
   "cell_type": "markdown",
   "metadata": {},
   "source": [
    "An AutoCNet server project configures 3 different redis queue using a containerized Redis server. In the below config, the server is running on `smalls` at port `8000`.  The three defined queues are:\n",
    "\n",
    "* `processing_queue`: This is the queue that accepts messages from a job submitter.  New jobs are pushed onto this queue and wait for processing to begin.  When a job is pushed onto the `processing_queue` an associated cluster job has to be spawned.  Spawning this job is handled by the `NetworkCandidateGraph`.\n",
    "* `working_queue`: When a cluster CPU becomes available and a job is started, the first thing that occurs is that the job is read from the processing queue and pushes the job to the working queue.  So far, we have worked very linearly waiting for one type of job to finish and then starting the next set of tasks.  Therefore, we have not mixed job types (e.g., extraction and matching) on a single queue.  If the ability to mix job types is desired, we can add it. The NetworkCandidateGraph watches the working_queue for jobs that have lingered for too long.  If a job exceed the walltime, the NetworkCandidateGraph removes the job message from the working queue and potentially resubmits the job with a different parameterization.\n",
    "* `completed_queue`: If a job completes successfully, a message is written to the completed queue.  The completed queue is also watched by the NetworkCandidateGraph.  When a completed job is detected, the graph is updated in some way.  This update is generally exceptionally small (such as turning a 'did the job work' flag from False to True) as all data related operations are piped directly to the database (e.g., when new matches are found they are not piped through the NetworkCandidateGraph to the database rather, the cluster job writes them directly to the database."
   ]
  },
  {
   "cell_type": "code",
   "execution_count": 3,
   "metadata": {},
   "outputs": [
    {
     "data": {
      "text/plain": [
       "{'completed_queue': 'jdemo:done',\n",
       " 'host': 'smalls',\n",
       " 'port': '8000',\n",
       " 'processing_queue': 'jdemo:proc',\n",
       " 'working_queue': 'jdemo:working'}"
      ]
     },
     "execution_count": 3,
     "metadata": {},
     "output_type": "execute_result"
    }
   ],
   "source": [
    "config['redis']"
   ]
  },
  {
   "cell_type": "markdown",
   "metadata": {},
   "source": [
    "## Queue Flow\n",
    "The queue flow seeks to:\n",
    "- Never lose a job due to algorithm, network, or node failure\n",
    "- Allow 'smarts' to reparameterize failed jobs a 'try again'\n",
    "\n",
    "The order of operations is:\n",
    "\n",
    "1. The NCG sends a message/messages to the processing queue and starts a job / jobarray\n",
    "1. Each job pulls a message from the processing queue, takes the walltime of the job and computes the maximum time the job could run. This results in an updated message.\n",
    "1. The updated message is pushed to the working queue\n",
    "1. The NCG has a sentinel that watches the working queue for jobs that have lingered for more than the walltime.  If a job has lingered too long, it is removed from the working queue and resubmited to the processing queue\n",
    "1. If a job is successful, the cluster process pushes a message to the completed queue and removes the task from the work queue\n",
    "\n",
    "<img style=\"float: left;\" src=\"../docs/images/queue_flow.png\">\n",
    "\n",
    "\n"
   ]
  },
  {
   "cell_type": "markdown",
   "metadata": {},
   "source": [
    "## Access the Queues\n",
    "Redis queues are accessed by name.  Below, the three queue names are assigned to variables and the queues are queried for their total length.\n",
    "\n",
    "The [PyRedis](https://redis-py.readthedocs.io/en/latest/#redis.StrictRedis) documentation is very good for describing how the queues can be interacted with.  In general, queues should be largely transparent to the user."
   ]
  },
  {
   "cell_type": "code",
   "execution_count": 10,
   "metadata": {
    "collapsed": true
   },
   "outputs": [],
   "source": [
    "wq = config['redis']['working_queue']\n",
    "pq = config['redis']['processing_queue']\n",
    "cq = config['redis']['completed_queue']"
   ]
  },
  {
   "cell_type": "code",
   "execution_count": 12,
   "metadata": {},
   "outputs": [
    {
     "name": "stdout",
     "output_type": "stream",
     "text": [
      "0\n",
      "72\n"
     ]
    },
    {
     "name": "stderr",
     "output_type": "stream",
     "text": [
      "Exception in thread jdemo:working:\n",
      "Traceback (most recent call last):\n",
      "  File \"/home/jlaura/anaconda3/envs/ct/lib/python3.6/threading.py\", line 916, in _bootstrap_inner\n",
      "    self.run()\n",
      "  File \"/home/jlaura/autocnet_server/autocnet_server/graph/graph.py\", line 525, in run\n",
      "    self.queue.lrem(self.name,0, json.dumps(msg))\n",
      "  File \"/home/jlaura/autocnet_server/autocnet_server/graph/graph.py\", line 360, in ring_matcher_callback\n",
      "    if rm['count'] <= config['cluster']['maxfailures']:\n",
      "KeyError: 'count'\n",
      "\n"
     ]
    }
   ],
   "source": [
    "print(ncg.redis_queue.llen(wq))\n",
    "print(ncg.redis_queue.llen(pq))"
   ]
  },
  {
   "cell_type": "code",
   "execution_count": null,
   "metadata": {
    "collapsed": true
   },
   "outputs": [],
   "source": []
  }
 ],
 "metadata": {
  "kernelspec": {
   "display_name": "Camera Testing",
   "language": "python",
   "name": "ct"
  },
  "language_info": {
   "codemirror_mode": {
    "name": "ipython",
    "version": 3
   },
   "file_extension": ".py",
   "mimetype": "text/x-python",
   "name": "python",
   "nbconvert_exporter": "python",
   "pygments_lexer": "ipython3",
   "version": "3.6.3"
  }
 },
 "nbformat": 4,
 "nbformat_minor": 2
}
