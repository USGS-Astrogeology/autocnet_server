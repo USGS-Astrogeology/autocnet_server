{
 "cells": [
  {
   "cell_type": "markdown",
   "metadata": {},
   "source": [
    "## Creating a New AutoCNet Server Project"
   ]
  },
  {
   "cell_type": "code",
   "execution_count": 1,
   "metadata": {
    "collapsed": true
   },
   "outputs": [],
   "source": [
    "#import os\n",
    "#os.environ['autocnet_config'] = '/home/jlaura/autocnet_projects/demo.yml '#'/home/jlaura/autocnet_projects/elysium.yml'\n",
    "\n",
    "import autocnet_server\n",
    "from autocnet_server.db.model import Base\n",
    "\n",
    "from sqlalchemy import create_engine\n",
    "from sqlalchemy.orm import sessionmaker\n",
    "from sqlalchemy_utils import database_exists, create_database"
   ]
  },
  {
   "cell_type": "code",
   "execution_count": 2,
   "metadata": {},
   "outputs": [
    {
     "data": {
      "text/plain": [
       "{'cluster': {'cluster_log_dir': '/home/jlaura/logs',\n",
       "  'cluster_submission': 'slurm',\n",
       "  'extractor_memory': 8192,\n",
       "  'maxfailures': 3,\n",
       "  'processing_memory': 8192,\n",
       "  'queue': 'shortall',\n",
       "  'tmp_scratch_dir': '/scratch/jlaura'},\n",
       " 'database': {'database_host': 'autocnet.wr.usgs.gov',\n",
       "  'database_name': 'jaydemo',\n",
       "  'database_password': 'jlaura',\n",
       "  'database_username': 'jlaura',\n",
       "  'pgbouncer_port': 8083,\n",
       "  'timeout': 500},\n",
       " 'developer': {'autocnet_path': '/home/jlaura/autocnet',\n",
       "  'autocnet_server_path': '/home/jlaura/anaconda3/envs/ct/lib/python3.6/site-packages/autocnet_server',\n",
       "  'plio_path': '/home/jlaura/anaconda3/envs/ct/lib/python3.6/site-packages/plio/'},\n",
       " 'directories': {'vrt_dir': '/sratch/jlaura/ctx_demo/vrt'},\n",
       " 'python': {'env_name': 'ct',\n",
       "  'pybin': '/home/jlaura/anaconda3/envs/ct/bin/python',\n",
       "  'pyroot': '/home/jlaura/anaconda3/envs/ct'},\n",
       " 'redis': {'basename': 'jdemo',\n",
       "  'completed_queue': 'jdemo:done',\n",
       "  'host': 'autocnet.wr.usgs.gov',\n",
       "  'port': '8084',\n",
       "  'processing_queue': 'jdemo:proc',\n",
       "  'working_queue': 'jdemo:working'},\n",
       " 'spatial': {'proj4_str': '+proj:longlat +a:3396190 +b:3376200 +no_defs',\n",
       "  'semimajor_rad': 3396190,\n",
       "  'semiminor_rad': 3376200,\n",
       "  'srid': 949900}}"
      ]
     },
     "execution_count": 2,
     "metadata": {},
     "output_type": "execute_result"
    }
   ],
   "source": [
    "autocnet_server.config"
   ]
  },
  {
   "cell_type": "markdown",
   "metadata": {},
   "source": [
    "This is the code that creates the database and associated tables for an AutoCNet project. No database names or login information is specified in this file.  This is because everything is being stored in a `YAML` configuration file."
   ]
  },
  {
   "cell_type": "code",
   "execution_count": 3,
   "metadata": {
    "collapsed": true,
    "scrolled": true
   },
   "outputs": [],
   "source": [
    "config = autocnet_server.config\n",
    "engine = create_engine('postgresql://{}:{}@{}:{}/{}'.format(config['database']['database_username'],\n",
    "                                                            config['database']['database_password'],\n",
    "                                                            config['database']['database_host'],\n",
    "                                                            config['database']['pgbouncer_port'],\n",
    "                                                            config['database']['database_name']))\n",
    "if not database_exists(engine.url):\n",
    "    create_database(engine.url, template='template_postgis')\n",
    "\n",
    "# Create the tables\n",
    "Base.metadata.bind = engine\n",
    "Base.metadata.create_all(engine)"
   ]
  },
  {
   "cell_type": "code",
   "execution_count": null,
   "metadata": {
    "collapsed": true
   },
   "outputs": [],
   "source": []
  }
 ],
 "metadata": {
  "kernelspec": {
   "display_name": "Camera Testing",
   "language": "python",
   "name": "ct"
  },
  "language_info": {
   "codemirror_mode": {
    "name": "ipython",
    "version": 3
   },
   "file_extension": ".py",
   "mimetype": "text/x-python",
   "name": "python",
   "nbconvert_exporter": "python",
   "pygments_lexer": "ipython3",
   "version": "3.6.5"
  }
 },
 "nbformat": 4,
 "nbformat_minor": 2
}
