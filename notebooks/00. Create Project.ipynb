{
 "cells": [
  {
   "cell_type": "markdown",
   "metadata": {},
   "source": [
    "## Creating a New AutoCNet Server Project"
   ]
  },
  {
   "cell_type": "code",
   "execution_count": 3,
   "metadata": {},
   "outputs": [],
   "source": [
    "import os\n",
    "os.environ['autocnet_config'] = '/home/jlaura/autocnet_projects/test_db.yml'\n",
    "\n",
    "import autocnet_server\n",
    "from autocnet_server.db.model import Base\n",
    "\n",
    "from sqlalchemy import create_engine\n",
    "from sqlalchemy.orm import sessionmaker\n",
    "from sqlalchemy_utils import database_exists, create_database"
   ]
  },
  {
   "cell_type": "code",
   "execution_count": 4,
   "metadata": {},
   "outputs": [
    {
     "name": "stdout",
     "output_type": "stream",
     "text": [
      "/home/jlaura/autocnet_server/autocnet_server/__init__.py\n"
     ]
    },
    {
     "data": {
      "text/plain": [
       "{'algorithms': {'ring_match': [{'target_points': 25, 'tolerance': 0.01},\n",
       "   {'target_points': 20, 'tolerance': 0.01},\n",
       "   {'target_points': 20, 'tolerance': 0.02},\n",
       "   {'target_points': 15, 'tolerance': 0.025}]},\n",
       " 'cluster': {'cluster_log_dir': '/home/jlaura/logs',\n",
       "  'cluster_submission': 'slurm',\n",
       "  'extractor_memory': 8192,\n",
       "  'maxfailures': 3,\n",
       "  'processing_memory': 4000,\n",
       "  'queue': 'shortall',\n",
       "  'tmp_scratch_dir': '/scratch/jlaura'},\n",
       " 'database': {'database_host': 'smalls',\n",
       "  'database_name': 'jay_test_db',\n",
       "  'database_password': 'jlaura',\n",
       "  'database_port': 8001,\n",
       "  'database_username': 'jlaura',\n",
       "  'pgbouncer_port': 8003,\n",
       "  'timeout': 500},\n",
       " 'database_creation': {'admin': 'jay', 'password': 'abcde'},\n",
       " 'developer': {'autocnet_path': '/home/jlaura/autocnet',\n",
       "  'autocnet_server_path': '/home/jlaura/autocnet_server'},\n",
       " 'directories': {'vrt_dir': '/scratch/jlaura/ctx/vrt'},\n",
       " 'pyro': {'candidate_graph_host': '0.0.0.0',\n",
       "  'candidate_graph_port': 8004,\n",
       "  'candidate_graph_uri': 'ncg',\n",
       "  'image_adder_host': '0.0.0.0',\n",
       "  'image_adder_port': 8005,\n",
       "  'image_adder_uri': 'ia'},\n",
       " 'python': {'pybin': '/usgs/apps/anaconda/envs/autocnet/bin/python',\n",
       "  'pyroot': '/usgs/apps/anaconda/envs/autocnet/'},\n",
       " 'redis': {'completed_queue': 'athabasca:done',\n",
       "  'host': 'smalls',\n",
       "  'port': '8000',\n",
       "  'processing_queue': 'athabasca:proc',\n",
       "  'working_queue': 'athabasca:working'},\n",
       " 'spatial': {'proj4_str': '+proj:longlat +a:3396190 +b:3376200 +no_defs',\n",
       "  'semimajor_rad': 3396190,\n",
       "  'semiminor_rad': 3376200,\n",
       "  'srid': 949900}}"
      ]
     },
     "execution_count": 4,
     "metadata": {},
     "output_type": "execute_result"
    }
   ],
   "source": []
  },
  {
   "cell_type": "markdown",
   "metadata": {},
   "source": [
    "This is the code that creates the database and associated tables for an AutoCNet project. No database names or login information is specified in this file.  This is because everything is being stored in `config.py`.  If we you want to override the values stored in `config.py` this can be done either by modifying that file directly or by modifying the file before executing the below."
   ]
  },
  {
   "cell_type": "code",
   "execution_count": 5,
   "metadata": {},
   "outputs": [],
   "source": [
    "config = autocnet_server.config\n",
    "engine = create_engine('postgresql://{}:{}@{}:{}/{}'.format(config['database_creation']['admin'],\n",
    "                                                            config['database_creation']['password'],\n",
    "                                                            config['database']['database_host'],\n",
    "                                                            config['database']['database_port'],\n",
    "                                                            config['database']['database_name']))\n",
    "if not database_exists(engine.url):\n",
    "    create_database(engine.url)\n",
    "# Enable postgis\n",
    "connection = engine.connect()\n",
    "\n",
    "\n",
    "result = connection.execute('CREATE EXTENSION postgis')\n",
    "result = connection.execute(\"\"\"INSERT into spatial_ref_sys (srid, auth_name, auth_srid, proj4text, srtext) values ( 949900, 'iau2000', 49900, '+proj=longlat +a=3396190 +b=3376200 +no_defs ', 'GEOGCS[\"Mars 2000\",DATUM[\"D_Mars_2000_IAU_IAG\",3396190.0,169.89444722361179]],PRIMEM[\"Greenwich\",0],UNIT[\"Decimal_Degree\",0.0174532925199433]]');\"\"\")\n",
    "result = connection.execute(\"\"\"ALTER DATABASE {} OWNER TO {}\"\"\".format(config['database']['database_name'],config['database']['database_username']))\n",
    "\n",
    "# Create the tables\n",
    "Base.metadata.bind = engine\n",
    "Base.metadata.create_all(engine)"
   ]
  },
  {
   "cell_type": "code",
   "execution_count": null,
   "metadata": {
    "collapsed": true
   },
   "outputs": [],
   "source": []
  }
 ],
 "metadata": {
  "kernelspec": {
   "display_name": "Camera Testing",
   "language": "python",
   "name": "ct"
  },
  "language_info": {
   "codemirror_mode": {
    "name": "ipython",
    "version": 3
   },
   "file_extension": ".py",
   "mimetype": "text/x-python",
   "name": "python",
   "nbconvert_exporter": "python",
   "pygments_lexer": "ipython3",
   "version": "3.6.3"
  }
 },
 "nbformat": 4,
 "nbformat_minor": 2
}
