{
 "cells": [
  {
   "cell_type": "markdown",
   "metadata": {},
   "source": [
    "## Creating a New AutoCNet Server Project"
   ]
  },
  {
   "cell_type": "code",
   "execution_count": 1,
   "metadata": {
    "collapsed": true
   },
   "outputs": [],
   "source": [
    "import os\n",
    "os.environ['autocnet_config'] = '/home/jlaura/autocnet_projects/demo.yml'\n",
    "\n",
    "import autocnet_server\n",
    "from autocnet_server.db.model import Base\n",
    "\n",
    "from sqlalchemy import create_engine\n",
    "from sqlalchemy.orm import sessionmaker\n",
    "from sqlalchemy_utils import database_exists, create_database"
   ]
  },
  {
   "cell_type": "markdown",
   "metadata": {},
   "source": [
    "This is the code that creates the database and associated tables for an AutoCNet project. No database names or login information is specified in this file.  This is because everything is being stored in a `YAML` configuration file."
   ]
  },
  {
   "cell_type": "code",
   "execution_count": 3,
   "metadata": {
    "scrolled": false
   },
   "outputs": [
    {
     "name": "stdout",
     "output_type": "stream",
     "text": [
      "### Python Configuration ###\r\n",
      "python:\r\n",
      "    pyroot: '/usgs/apps/anaconda/envs/autocnet/'\r\n",
      "    pybin: '/usgs/apps/anaconda/envs/autocnet/bin/python' # Do not change me\r\n",
      "\r\n",
      "\r\n",
      "### Cluster Configuration ###\r\n",
      "cluster:\r\n",
      "    # The number of times to retry a failing cluster job\r\n",
      "    maxfailures: 3\r\n",
      "    # Which processing queue should be used?\r\n",
      "    queue: 'shortall'\r\n",
      "    # Location to put <jobid.log> files for cluster jobs\r\n",
      "    cluster_log_dir: '/home/jlaura/logs'\r\n",
      "    cluster_submission: 'slurm'  # or `pbs`\r\n",
      "    tmp_scratch_dir: '/scratch/jlaura'\r\n",
      "\r\n",
      "    # The amount of RAM (in MB) to request for jobs\r\n",
      "    extractor_memory: 8192\r\n",
      "    processing_memory: 4000\r\n",
      "\r\n",
      "### Database Configuration ###\r\n",
      "database:\r\n",
      "    database_username: 'jlaura'\r\n",
      "    database_password: 'jlaura'\r\n",
      "    database_host: 'smalls'\r\n",
      "    database_port: 8001\r\n",
      "    pgbouncer_port: 8003\r\n",
      "    # The name of the database to connect to.  Tables will be created inside this DB.\r\n",
      "    database_name: 'jaydemo' # This needs to be all lowercase for PostGreSQL!\r\n",
      "    # The number of seconds to wait while attemping to connect to the DB.\r\n",
      "    timeout: 500\r\n",
      "\r\n",
      "# Redis Configuration\r\n",
      "redis:\r\n",
      "    host: 'smalls'\r\n",
      "    port: '8000'\r\n",
      "    completed_queue: 'athabasca:done'\r\n",
      "    processing_queue: 'athabasca:proc'\r\n",
      "    working_queue: 'athabasca:working'\r\n",
      "\r\n",
      "pyro:\r\n",
      "    ### Image Adder Configuration ###\r\n",
      "    image_adder_uri: 'ia'\r\n",
      "    image_adder_port: 8005\r\n",
      "    image_adder_host: '0.0.0.0'\r\n",
      "\r\n",
      "    ### Candidate Graph Configuration ###\r\n",
      "    candidate_graph_uri: 'ncg'\r\n",
      "    candidate_graph_port: 8004\r\n",
      "    candidate_graph_host: '0.0.0.0'\r\n",
      "\r\n",
      "### Spatial Reference Setup ###\r\n",
      "spatial:\r\n",
      "    srid: 949900\r\n",
      "    semimajor_rad: 3396190  # in meters\r\n",
      "    semiminor_rad: 3376200  # in meters\r\n",
      "    proj4_str: '+proj:longlat +a:3396190 +b:3376200 +no_defs'\r\n",
      "\r\n",
      "### Working Directories ###\r\n",
      "directories:\r\n",
      "    vrt_dir: '/scratch/jlaura/ctx/vrt'\r\n",
      "\r\n",
      "### Developer PATHS ###\r\n",
      "developer:\r\n",
      "    autocnet_path: '/home/jlaura/autocnet'\r\n",
      "    autocnet_server_path: '/home/jlaura/autocnet_server'\r\n",
      "\r\n",
      "algorithms:\r\n",
      "    ring_match:\r\n",
      "        - target_points: 25\r\n",
      "          tolerance: 0.01\r\n",
      "        - target_points: 20\r\n",
      "          tolerance: 0.01\r\n",
      "        - target_points: 20\r\n",
      "          tolerance: 0.02\r\n",
      "        - target_points: 15\r\n",
      "          tolerance: 0.025\r\n",
      "\r\n",
      "### Database Creation - DO NOT CHANGE ###\r\n",
      "database_creation:\r\n",
      "    admin: 'jay'\r\n",
      "    password: 'abcde'\r\n",
      "\r\n"
     ]
    }
   ],
   "source": [
    "!cat '/home/jlaura/autocnet_projects/demo.yml'"
   ]
  },
  {
   "cell_type": "code",
   "execution_count": 3,
   "metadata": {
    "collapsed": true,
    "scrolled": true
   },
   "outputs": [],
   "source": [
    "config = autocnet_server.config\n",
    "engine = create_engine('postgresql://{}:{}@{}:{}/{}'.format(config['database']['database_username'],\n",
    "                                                            config['database']['database_password'],\n",
    "                                                            config['database']['database_host'],\n",
    "                                                            config['database']['database_port'],\n",
    "                                                            config['database']['database_name']))\n",
    "if not database_exists(engine.url):\n",
    "    create_database(engine.url, template='template_postgis')\n",
    "\n",
    "# Create the tables\n",
    "Base.metadata.bind = engine\n",
    "Base.metadata.create_all(engine)"
   ]
  },
  {
   "cell_type": "code",
   "execution_count": null,
   "metadata": {
    "collapsed": true
   },
   "outputs": [],
   "source": []
  }
 ],
 "metadata": {
  "kernelspec": {
   "display_name": "Camera Testing",
   "language": "python",
   "name": "ct"
  },
  "language_info": {
   "codemirror_mode": {
    "name": "ipython",
    "version": 3
   },
   "file_extension": ".py",
   "mimetype": "text/x-python",
   "name": "python",
   "nbconvert_exporter": "python",
   "pygments_lexer": "ipython3",
   "version": "3.6.5"
  }
 },
 "nbformat": 4,
 "nbformat_minor": 2
}
