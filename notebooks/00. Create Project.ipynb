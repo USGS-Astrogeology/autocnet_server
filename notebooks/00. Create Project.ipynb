{
 "cells": [
  {
   "cell_type": "markdown",
   "metadata": {},
   "source": [
    "## Creating a New AutoCNet Server Project"
   ]
  },
  {
   "cell_type": "code",
   "execution_count": 1,
   "metadata": {},
   "outputs": [],
   "source": [
    "import os\n",
    "os.environ['autocnet_config'] = '/home/jlaura/autocnet_projects/test_db.yml'\n",
    "\n",
    "import autocnet_server\n",
    "from autocnet_server.db.model import Base\n",
    "\n",
    "from sqlalchemy import create_engine\n",
    "from sqlalchemy.orm import sessionmaker\n",
    "from sqlalchemy_utils import database_exists, create_database"
   ]
  },
  {
   "cell_type": "markdown",
   "metadata": {},
   "source": [
    "This is the code that creates the database and associated tables for an AutoCNet project. No database names or login information is specified in this file.  This is because everything is being stored in `config.py`.  If we you want to override the values stored in `config.py` this can be done either by modifying that file directly or by modifying the file before executing the below."
   ]
  },
  {
   "cell_type": "code",
   "execution_count": 2,
   "metadata": {},
   "outputs": [],
   "source": [
    "config = autocnet_server.config\n",
    "engine = create_engine('postgresql://{}:{}@{}:{}/{}'.format(config['database_creation']['admin'],\n",
    "                                                            config['database_creation']['password'],\n",
    "                                                            config['database']['database_host'],\n",
    "                                                            config['database']['database_port'],\n",
    "                                                            config['database']['database_name']))\n",
    "if not database_exists(engine.url):\n",
    "    create_database(engine.url)\n",
    "# Enable postgis\n",
    "connection = engine.connect()\n",
    "\n",
    "\n",
    "result = connection.execute('CREATE EXTENSION postgis')\n",
    "result = connection.execute(\"\"\"INSERT into spatial_ref_sys (srid, auth_name, auth_srid, proj4text, srtext) values ( 949900, 'iau2000', 49900, '+proj=longlat +a=3396190 +b=3376200 +no_defs ', 'GEOGCS[\"Mars 2000\",DATUM[\"D_Mars_2000_IAU_IAG\",3396190.0,169.89444722361179]],PRIMEM[\"Greenwich\",0],UNIT[\"Decimal_Degree\",0.0174532925199433]]');\"\"\")\n",
    "result = connection.execute(\"\"\"ALTER DATABASE {} OWNER TO {}\"\"\".format(config['database']['database_name'],config['database']['database_username']))\n",
    "\n",
    "engine = create_engine('postgresql://{}:{}@{}:{}/{}'.format(config['database']['database_username'],\n",
    "                                                            config['database']['database_password'],\n",
    "                                                            config['database']['database_host'],\n",
    "                                                            config['database']['database_port'],\n",
    "                                                            config['database']['database_name']))\n",
    "\n",
    "# Create the tables\n",
    "Base.metadata.bind = engine\n",
    "Base.metadata.create_all(engine)"
   ]
  },
  {
   "cell_type": "code",
   "execution_count": null,
   "metadata": {
    "collapsed": true
   },
   "outputs": [],
   "source": []
  }
 ],
 "metadata": {
  "kernelspec": {
   "display_name": "Camera Testing",
   "language": "python",
   "name": "ct"
  },
  "language_info": {
   "codemirror_mode": {
    "name": "ipython",
    "version": 3
   },
   "file_extension": ".py",
   "mimetype": "text/x-python",
   "name": "python",
   "nbconvert_exporter": "python",
   "pygments_lexer": "ipython3",
   "version": "3.6.3"
  }
 },
 "nbformat": 4,
 "nbformat_minor": 2
}
