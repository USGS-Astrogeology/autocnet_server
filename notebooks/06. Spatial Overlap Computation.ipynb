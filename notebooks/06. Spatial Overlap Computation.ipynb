{
 "cells": [
  {
   "cell_type": "code",
   "execution_count": 1,
   "metadata": {
    "collapsed": true
   },
   "outputs": [],
   "source": [
    "import os\n",
    "os.environ['autocnet_config'] = '/home/jlaura/autocnet_projects/demo.yml'\n",
    "from autocnet_server.graph.graph import NetworkCandidateGraph\n",
    "\n",
    "import yaml\n",
    "#Load the config file\n",
    "with open(os.environ['autocnet_config'], 'r') as f:\n",
    "    config = yaml.load(f)"
   ]
  },
  {
   "cell_type": "markdown",
   "metadata": {},
   "source": [
    "## Computing Overlapping Polygons\n",
    "\n",
    "Once features are extracted, a standard GIS overlay analysis is performed to compute all of the intersecting polygons.  Below, we see the results of this analysis.  Empty polygons are not overlapping with any other images. The purple polygone intersect with 2 or more images. In the highlighted case, this polygon covers images: {1,2,6,7,9,11,12,13}\n",
    "\n",
    "<img style=\"float: left; width:300px;\" src=\"../docs/images/overlay_analysis.png\">\n",
    "\n",
    "Overlays are used when deepening a control network."
   ]
  },
  {
   "cell_type": "code",
   "execution_count": 2,
   "metadata": {
    "collapsed": true
   },
   "outputs": [],
   "source": [
    "ncg = NetworkCandidateGraph.from_database()"
   ]
  },
  {
   "cell_type": "code",
   "execution_count": 3,
   "metadata": {},
   "outputs": [],
   "source": [
    "ncg.compute_overlaps()"
   ]
  },
  {
   "cell_type": "code",
   "execution_count": null,
   "metadata": {
    "collapsed": true
   },
   "outputs": [],
   "source": []
  }
 ],
 "metadata": {
  "kernelspec": {
   "display_name": "Camera Testing",
   "language": "python",
   "name": "ct"
  },
  "language_info": {
   "codemirror_mode": {
    "name": "ipython",
    "version": 3
   },
   "file_extension": ".py",
   "mimetype": "text/x-python",
   "name": "python",
   "nbconvert_exporter": "python",
   "pygments_lexer": "ipython3",
   "version": "3.6.3"
  }
 },
 "nbformat": 4,
 "nbformat_minor": 2
}
