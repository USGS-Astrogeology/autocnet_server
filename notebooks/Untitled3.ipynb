{
 "cells": [
  {
   "cell_type": "code",
   "execution_count": 14,
   "metadata": {},
   "outputs": [
    {
     "name": "stdout",
     "output_type": "stream",
     "text": [
      "Populating the interactive namespace from numpy and matplotlib\n"
     ]
    }
   ],
   "source": [
    "import pandas as pd\n",
    "%pylab inline"
   ]
  },
  {
   "cell_type": "code",
   "execution_count": 2,
   "metadata": {
    "collapsed": true
   },
   "outputs": [],
   "source": [
    "df = pd.read_csv('/home/jlaura/autocnet_server/notebooks/bundleout_points.csv')"
   ]
  },
  {
   "cell_type": "code",
   "execution_count": 3,
   "metadata": {},
   "outputs": [
    {
     "data": {
      "text/plain": [
       "Index(['Point', 'Point.1', 'Accepted', 'Rejected', 'Residual', '3-d', '3-d.1',\n",
       "       '3-d.2', 'Correction', 'Correction.1', 'Correction.2', 'Coordinate',\n",
       "       'Coordinate.1', 'Coordinate.2'],\n",
       "      dtype='object')"
      ]
     },
     "execution_count": 3,
     "metadata": {},
     "output_type": "execute_result"
    }
   ],
   "source": [
    "df.columns"
   ]
  },
  {
   "cell_type": "code",
   "execution_count": 43,
   "metadata": {
    "collapsed": true
   },
   "outputs": [],
   "source": [
    "acc = df.query('Rejected == False')"
   ]
  },
  {
   "cell_type": "code",
   "execution_count": 42,
   "metadata": {},
   "outputs": [],
   "source": [
    "sort = acc.sort_values(by='Residual')"
   ]
  },
  {
   "cell_type": "code",
   "execution_count": 17,
   "metadata": {},
   "outputs": [
    {
     "data": {
      "image/png": "[encoded data removed]",
      "text/plain": [
       "<matplotlib.figure.Figure at 0x2ae5c1622780>"
      ]
     },
     "metadata": {},
     "output_type": "display_data"
    }
   ],
   "source": [
    "acc.boxplot('Residual')\n",
    "show()"
   ]
  },
  {
   "cell_type": "code",
   "execution_count": 44,
   "metadata": {
    "collapsed": true
   },
   "outputs": [],
   "source": [
    "from geopandas import GeoDataFrame\n",
    "from shapely.geometry import Point"
   ]
  },
  {
   "cell_type": "code",
   "execution_count": 45,
   "metadata": {
    "collapsed": true
   },
   "outputs": [],
   "source": [
    "geom = [Point(xy) for xy in zip(acc['3-d.1'], acc['3-d'])]"
   ]
  },
  {
   "cell_type": "code",
   "execution_count": 46,
   "metadata": {
    "collapsed": true
   },
   "outputs": [],
   "source": [
    "sub = acc[['Point', 'Residual', 'Correction', 'Correction.1', 'Correction.2']]"
   ]
  },
  {
   "cell_type": "code",
   "execution_count": 47,
   "metadata": {},
   "outputs": [],
   "source": [
    "gdf = GeoDataFrame(sub, crs='+proj=longlat +a=3396190 +b=3376200 +no_defs', geometry=geom)"
   ]
  },
  {
   "cell_type": "code",
   "execution_count": 48,
   "metadata": {},
   "outputs": [
    {
     "data": {
      "text/html": [
       "<div>\n",
       "<style scoped>\n",
       "    .dataframe tbody tr th:only-of-type {\n",
       "        vertical-align: middle;\n",
       "    }\n",
       "\n",
       "    .dataframe tbody tr th {\n",
       "        vertical-align: top;\n",
       "    }\n",
       "\n",
       "    .dataframe thead th {\n",
       "        text-align: right;\n",
       "    }\n",
       "</style>\n",
       "<table border=\"1\" class=\"dataframe\">\n",
       "  <thead>\n",
       "    <tr style=\"text-align: right;\">\n",
       "      <th></th>\n",
       "      <th>Point</th>\n",
       "      <th>Residual</th>\n",
       "      <th>Correction</th>\n",
       "      <th>Correction.1</th>\n",
       "      <th>Correction.2</th>\n",
       "      <th>geometry</th>\n",
       "    </tr>\n",
       "  </thead>\n",
       "  <tbody>\n",
       "    <tr>\n",
       "      <th>0</th>\n",
       "      <td>1</td>\n",
       "      <td>0.64</td>\n",
       "      <td>24.008946</td>\n",
       "      <td>-75.842630</td>\n",
       "      <td>-2.646834</td>\n",
       "      <td>POINT (164.14494521 2.30825349)</td>\n",
       "    </tr>\n",
       "    <tr>\n",
       "      <th>1</th>\n",
       "      <td>3</td>\n",
       "      <td>0.33</td>\n",
       "      <td>-7.081299</td>\n",
       "      <td>8.837626</td>\n",
       "      <td>-1.703895</td>\n",
       "      <td>POINT (164.20940708 4.35714227)</td>\n",
       "    </tr>\n",
       "    <tr>\n",
       "      <th>2</th>\n",
       "      <td>4</td>\n",
       "      <td>0.27</td>\n",
       "      <td>-7.558411</td>\n",
       "      <td>9.476892</td>\n",
       "      <td>-1.269360</td>\n",
       "      <td>POINT (164.19296755 4.29361882)</td>\n",
       "    </tr>\n",
       "  </tbody>\n",
       "</table>\n",
       "</div>"
      ],
      "text/plain": [
       "   Point  Residual  Correction  Correction.1  Correction.2  \\\n",
       "0      1      0.64   24.008946    -75.842630     -2.646834   \n",
       "1      3      0.33   -7.081299      8.837626     -1.703895   \n",
       "2      4      0.27   -7.558411      9.476892     -1.269360   \n",
       "\n",
       "                          geometry  \n",
       "0  POINT (164.14494521 2.30825349)  \n",
       "1  POINT (164.20940708 4.35714227)  \n",
       "2  POINT (164.19296755 4.29361882)  "
      ]
     },
     "execution_count": 48,
     "metadata": {},
     "output_type": "execute_result"
    }
   ],
   "source": [
    "gdf.head(3)"
   ]
  },
  {
   "cell_type": "code",
   "execution_count": 49,
   "metadata": {},
   "outputs": [],
   "source": [
    "from autocnet_server.config import AutoCNet_Config as config\n",
    "\n",
    "from sqlalchemy.orm import aliased, create_session, scoped_session, sessionmaker\n",
    "from sqlalchemy import create_engine\n",
    "\n",
    "sc = config()\n",
    "db_uri = 'postgresql://{}:{}@{}:{}/{}'.format(sc.database_username,\n",
    "                                              sc.database_password,\n",
    "                                              sc.database_host,\n",
    "                                              sc.database_port,\n",
    "                                              sc.database_name)\n",
    "engine = create_engine(db_uri)"
   ]
  },
  {
   "cell_type": "code",
   "execution_count": 50,
   "metadata": {
    "collapsed": true
   },
   "outputs": [],
   "source": [
    "from sqlalchemy import Column, String, Integer, Float, ForeignKey, Boolean, LargeBinary\n",
    "from geoalchemy2 import Geometry, WKTElement\n"
   ]
  },
  {
   "cell_type": "code",
   "execution_count": 51,
   "metadata": {},
   "outputs": [],
   "source": [
    "gdf['geom'] = gdf['geometry'].apply(lambda x: WKTElement(x.wkt, srid=949900))\n",
    "sub = gdf[['Point', 'Residual', 'Correction', 'Correction.1', 'Correction.2', 'geom']]"
   ]
  },
  {
   "cell_type": "code",
   "execution_count": 52,
   "metadata": {},
   "outputs": [
    {
     "data": {
      "text/html": [
       "<div>\n",
       "<style scoped>\n",
       "    .dataframe tbody tr th:only-of-type {\n",
       "        vertical-align: middle;\n",
       "    }\n",
       "\n",
       "    .dataframe tbody tr th {\n",
       "        vertical-align: top;\n",
       "    }\n",
       "\n",
       "    .dataframe thead th {\n",
       "        text-align: right;\n",
       "    }\n",
       "</style>\n",
       "<table border=\"1\" class=\"dataframe\">\n",
       "  <thead>\n",
       "    <tr style=\"text-align: right;\">\n",
       "      <th></th>\n",
       "      <th>Point</th>\n",
       "      <th>Residual</th>\n",
       "      <th>Correction</th>\n",
       "      <th>Correction.1</th>\n",
       "      <th>Correction.2</th>\n",
       "      <th>geom</th>\n",
       "    </tr>\n",
       "  </thead>\n",
       "  <tbody>\n",
       "    <tr>\n",
       "      <th>0</th>\n",
       "      <td>1</td>\n",
       "      <td>0.64</td>\n",
       "      <td>24.008946</td>\n",
       "      <td>-75.842630</td>\n",
       "      <td>-2.646834</td>\n",
       "      <td>POINT (164.14494521 2.30825349)</td>\n",
       "    </tr>\n",
       "    <tr>\n",
       "      <th>1</th>\n",
       "      <td>3</td>\n",
       "      <td>0.33</td>\n",
       "      <td>-7.081299</td>\n",
       "      <td>8.837626</td>\n",
       "      <td>-1.703895</td>\n",
       "      <td>POINT (164.20940708 4.35714227)</td>\n",
       "    </tr>\n",
       "    <tr>\n",
       "      <th>2</th>\n",
       "      <td>4</td>\n",
       "      <td>0.27</td>\n",
       "      <td>-7.558411</td>\n",
       "      <td>9.476892</td>\n",
       "      <td>-1.269360</td>\n",
       "      <td>POINT (164.19296755 4.29361882)</td>\n",
       "    </tr>\n",
       "  </tbody>\n",
       "</table>\n",
       "</div>"
      ],
      "text/plain": [
       "   Point  Residual  Correction  Correction.1  Correction.2  \\\n",
       "0      1      0.64   24.008946    -75.842630     -2.646834   \n",
       "1      3      0.33   -7.081299      8.837626     -1.703895   \n",
       "2      4      0.27   -7.558411      9.476892     -1.269360   \n",
       "\n",
       "                              geom  \n",
       "0  POINT (164.14494521 2.30825349)  \n",
       "1  POINT (164.20940708 4.35714227)  \n",
       "2  POINT (164.19296755 4.29361882)  "
      ]
     },
     "execution_count": 52,
     "metadata": {},
     "output_type": "execute_result"
    }
   ],
   "source": [
    "sub.head(3)"
   ]
  },
  {
   "cell_type": "code",
   "execution_count": 53,
   "metadata": {},
   "outputs": [],
   "source": [
    "sub.to_sql('controlled', engine, if_exists='replace', index=False, dtype={'Point':Integer, 'Residual':Float,\n",
    "                                                    'Correction': Float, 'Correction.1': Float, 'Correction.2': Float,\n",
    "                                                   'geom':Geometry('POINT', srid=949900)})"
   ]
  },
  {
   "cell_type": "code",
   "execution_count": 54,
   "metadata": {},
   "outputs": [
    {
     "data": {
      "text/plain": [
       "count    22127.000000\n",
       "mean         0.298581\n",
       "std          0.338518\n",
       "min          0.000000\n",
       "25%          0.170000\n",
       "50%          0.250000\n",
       "75%          0.340000\n",
       "max         10.220000\n",
       "Name: Residual, dtype: float64"
      ]
     },
     "execution_count": 54,
     "metadata": {},
     "output_type": "execute_result"
    }
   ],
   "source": [
    "sub['Residual'].describe()"
   ]
  }
 ],
 "metadata": {
  "kernelspec": {
   "display_name": "Camera Testing",
   "language": "python",
   "name": "ct"
  },
  "language_info": {
   "codemirror_mode": {
    "name": "ipython",
    "version": 3
   },
   "file_extension": ".py",
   "mimetype": "text/x-python",
   "name": "python",
   "nbconvert_exporter": "python",
   "pygments_lexer": "ipython3",
   "version": "3.6.3"
  }
 },
 "nbformat": 4,
 "nbformat_minor": 2
}
