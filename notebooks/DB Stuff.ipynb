{
 "cells": [
  {
   "cell_type": "code",
   "execution_count": null,
   "metadata": {
    "collapsed": true
   },
   "outputs": [],
   "source": [
    "# %env autocnet_config=/home/tthatcher/demo.yml\n",
    "import gdal"
   ]
  },
  {
   "cell_type": "code",
   "execution_count": null,
   "metadata": {},
   "outputs": [],
   "source": [
    "!rm gis.db"
   ]
  },
  {
   "cell_type": "code",
   "execution_count": null,
   "metadata": {},
   "outputs": [],
   "source": [
    "from autocnet_server.db import model\n",
    "import json\n",
    "import os\n",
    "import sys\n",
    "from ctypes.util import find_library\n",
    "from sqlalchemy.ext.declarative import declarative_base\n",
    "from sqlalchemy import Column, String, Integer, Float, JSON, ForeignKey, Boolean, LargeBinary, UniqueConstraint\n",
    "# from sqlalchemy.dialects.postgresql import ARRAY, JSONB\n",
    "from sqlalchemy.orm import relationship, backref\n",
    "from sqlalchemy.sql import select, func\n",
    "from geoalchemy2 import Geometry\n",
    "from geoalchemy2.shape import to_shape\n",
    "from sqlalchemy import Sequence\n",
    "import json\n",
    "import pandas as pd\n",
    "from sqlalchemy.types import (\n",
    "    Integer,\n",
    "    String,\n",
    "    TypeDecorator,\n",
    "    Numeric,\n",
    "    )\n",
    "\n",
    "from sqlalchemy import create_engine\n",
    "from sqlalchemy.orm import sessionmaker\n",
    "from sqlalchemy import Sequence\n",
    "from sqlalchemy.event import listen"
   ]
  },
  {
   "cell_type": "code",
   "execution_count": null,
   "metadata": {},
   "outputs": [],
   "source": [
    "Base = declarative_base()\n",
    "\n",
    "# Custom class for Array\n",
    "class ArrayType(TypeDecorator):\n",
    "    \"\"\" Sqlite-like does not support arrays.\n",
    "        Let's use a custom type decorator.\n",
    "\n",
    "        See http://docs.sqlalchemy.org/en/latest/core/types.html#sqlalchemy.types.TypeDecorator\n",
    "    \"\"\"\n",
    "    \n",
    "    impl = String\n",
    "\n",
    "    def process_bind_param(self, value, dialect):\n",
    "        return json.dumps(value)\n",
    "\n",
    "    def process_result_value(self, value, dialect):\n",
    "        return json.loads(value)\n",
    "\n",
    "    def copy(self):\n",
    "        return ArrayType(self.impl.length)\n",
    "\n",
    "# Custom class for JSON\n",
    "class Json(TypeDecorator):\n",
    "\n",
    "    @property\n",
    "    def python_type(self):\n",
    "        return object\n",
    "\n",
    "    impl = String\n",
    "\n",
    "    def process_bind_param(self, value, dialect):\n",
    "        return json.dumps(value)\n",
    "\n",
    "    def process_literal_param(self, value, dialect):\n",
    "        return value\n",
    "\n",
    "    def process_result_value(self, value, dialect):\n",
    "        try:\n",
    "            return json.loads(value)\n",
    "        except (ValueError, TypeError):\n",
    "            return None\n",
    "\n",
    "class Cameras(Base):\n",
    "    __tablename__ = 'cameras'\n",
    "    id = Column(Integer, primary_key=True, autoincrement=True)\n",
    "    image_id = Column(Integer, ForeignKey(\"edges.id\", ondelete=\"CASCADE\"), unique=True)\n",
    "    camera = Column(Json())\n",
    "    \n",
    "class Element(Base):\n",
    "    __tablename__ = 'elements'\n",
    "\n",
    "    id = Column(Integer(),\n",
    "                Sequence('element_id_seq'),\n",
    "                primary_key = True)\n",
    "    myarray = Column(ArrayType())\n",
    "    mycolumn = Column(Json())\n",
    "    \n",
    "class Edges(Base):\n",
    "    __tablename__ = 'edges'\n",
    "    id = Column(Integer, primary_key=True, autoincrement=True)\n",
    "    source = Column(Integer)\n",
    "    destination = Column(Integer)\n",
    "    ring = Column(ArrayType())\n",
    "    fundamental = Column(ArrayType())\n",
    "    active = Column(Boolean)\n",
    "    masks = Column(Json())\n",
    "    \n",
    "class Overlay(Base):\n",
    "    __tablename__ = 'overlay'\n",
    "    id = Column(Integer, primary_key=True, autoincrement=True)\n",
    "    overlaps = Column(ArrayType())\n",
    "    geom = Column(Geometry(geometry_type='POLYGON', management=True, use_st_prefix=False))\n",
    "\n",
    "class Lake(Base):\n",
    "    __tablename__ = 'lake'\n",
    "    id = Column(Integer, primary_key=True)\n",
    "    name = Column(String)\n",
    "    geom = Column(Geometry(geometry_type='POLYGON', management=True, use_st_prefix=False))\n",
    "\n",
    "def load_spatialite(dbapi_conn, connection_record):\n",
    "    spatial_path = find_library('spatialite')\n",
    "    dbapi_conn.enable_load_extension(True)\n",
    "    dbapi_conn.load_extension(spatial_path)"
   ]
  },
  {
   "cell_type": "code",
   "execution_count": null,
   "metadata": {
    "scrolled": false
   },
   "outputs": [],
   "source": [
    "engine = create_engine('sqlite:///gis.db', echo=True)\n",
    "\n",
    "listen(engine, 'connect', load_spatialite)\n",
    "\n",
    "conn = engine.connect()\n",
    "\n",
    "conn.execute(select([func.InitSpatialMetaData()]))\n",
    "\n",
    "conn.close()\n",
    "\n",
    "Base.metadata.create_all(engine)\n",
    "\n",
    "Session = sessionmaker(bind=engine)\n",
    "\n",
    "session = Session()"
   ]
  },
  {
   "cell_type": "code",
   "execution_count": null,
   "metadata": {
    "scrolled": true
   },
   "outputs": [],
   "source": [
    "\n",
    "# Creates a df out of dict and dumps to json\n",
    "data = {'col1': [1, 2], 'col2': [3, 4]}\n",
    "df = pd.DataFrame(data)\n",
    "df_json = df.to_json(orient='index')\n",
    "\n",
    "# # creates a test of an array and json\n",
    "lake = Lake(name='Majeur', geom='POLYGON((0 0,1 0,1 1,0 1,0 0))')\n",
    "test_data = Element(id=69, myarray =[1, 2, 3, 4, 5], mycolumn=df_json)\n",
    "gm = Overlay(id=75, overlaps=[1,2,3,4,5], geom='POLYGON((0 0,1 0,1 1,0 1,0 0))')\n",
    "# # Adds that test\n",
    "session.add(test_data)\n",
    "session.add(gm)\n",
    "session.add(lake)\n",
    "\n",
    "session.commit()\n",
    "\n",
    "\n",
    "# # Query the db for the test_data values\n",
    "our_user = session.query(Element).filter_by(id=69).first()\n",
    "our_geom = session.query(Overlay).filter_by(id=75).first()\n",
    "\n",
    "# # Output both values\n",
    "# our_user.mycolumn\n",
    "our_geom.geom\n",
    "# lake.geom\n",
    "# our_geom.overlaps\n",
    "\n",
    "# from sqlalchemy import inspect\n",
    "# inspector = inspect(engine)\n",
    "\n",
    "# for table_name in inspector.get_table_names():\n",
    "#     for column in inspector.get_columns(table_name):\n",
    "#         print(\"Column: %s\" % column['name'])\n",
    "# our_geom.geom"
   ]
  },
  {
   "cell_type": "code",
   "execution_count": null,
   "metadata": {},
   "outputs": [],
   "source": []
  },
  {
   "cell_type": "code",
   "execution_count": null,
   "metadata": {
    "collapsed": true
   },
   "outputs": [],
   "source": []
  },
  {
   "cell_type": "code",
   "execution_count": null,
   "metadata": {
    "collapsed": true
   },
   "outputs": [],
   "source": []
  },
  {
   "cell_type": "raw",
   "metadata": {
    "collapsed": true
   },
   "source": []
  }
 ],
 "metadata": {
  "kernelspec": {
   "display_name": "autocnet",
   "language": "python",
   "name": "autocnet"
  },
  "language_info": {
   "codemirror_mode": {
    "name": "ipython",
    "version": 3
   },
   "file_extension": ".py",
   "mimetype": "text/x-python",
   "name": "python",
   "nbconvert_exporter": "python",
   "pygments_lexer": "ipython3",
   "version": "3.6.3"
  }
 },
 "nbformat": 4,
 "nbformat_minor": 2
}
