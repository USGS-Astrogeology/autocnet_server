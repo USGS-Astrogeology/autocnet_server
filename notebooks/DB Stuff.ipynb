{
 "cells": [
  {
   "cell_type": "code",
   "execution_count": 1,
   "metadata": {},
   "outputs": [
    {
     "name": "stderr",
     "output_type": "stream",
     "text": [
      "/usgs/apps/anaconda/envs/autocnet/lib/python3.6/site-packages/autocnet_server/__init__.py:30: UserWarning: No autocnet_config environment variable set. Defaulting to an en empty configuration.\n",
      "  warnings.warn('No autocnet_config environment variable set. Defaulting to an en empty configuration.')\n"
     ]
    }
   ],
   "source": [
    "from autocnet_server.db import model\n",
    "import json\n",
    "\n",
    "from sqlalchemy.ext.declarative import declarative_base\n",
    "from sqlalchemy import Column, String, Integer, Float, JSON, ForeignKey, Boolean, LargeBinary, UniqueConstraint\n",
    "# from sqlalchemy.dialects.postgresql import ARRAY, JSONB\n",
    "from sqlalchemy.orm import relationship, backref\n",
    "from geoalchemy2 import Geometry\n",
    "from geoalchemy2.shape import to_shape\n",
    "from sqlalchemy import Sequence\n",
    "import json\n",
    "import pandas as pd\n",
    "from sqlalchemy.types import (\n",
    "    Integer,\n",
    "    String,\n",
    "    TypeDecorator,\n",
    "    Numeric,\n",
    "    )\n",
    "\n",
    "from sqlalchemy import create_engine\n",
    "from sqlalchemy.orm import sessionmaker\n",
    "from sqlalchemy import Sequence\n",
    "\n",
    "\n",
    "\n",
    "Base = declarative_base()\n",
    "\n",
    "# Custom class for Array\n",
    "class ArrayType(TypeDecorator):\n",
    "    \"\"\" Sqlite-like does not support arrays.\n",
    "        Let's use a custom type decorator.\n",
    "\n",
    "        See http://docs.sqlalchemy.org/en/latest/core/types.html#sqlalchemy.types.TypeDecorator\n",
    "    \"\"\"\n",
    "    \n",
    "    impl = String\n",
    "\n",
    "    def process_bind_param(self, value, dialect):\n",
    "        return json.dumps(value)\n",
    "\n",
    "    def process_result_value(self, value, dialect):\n",
    "        return json.loads(value)\n",
    "\n",
    "    def copy(self):\n",
    "        return ArrayType(self.impl.length)\n",
    "\n",
    "# Custom class for JSON\n",
    "class Json(TypeDecorator):\n",
    "\n",
    "    @property\n",
    "    def python_type(self):\n",
    "        return object\n",
    "\n",
    "    impl = String\n",
    "\n",
    "    def process_bind_param(self, value, dialect):\n",
    "        return json.dumps(value)\n",
    "\n",
    "    def process_literal_param(self, value, dialect):\n",
    "        return value\n",
    "\n",
    "    def process_result_value(self, value, dialect):\n",
    "        try:\n",
    "            return json.loads(value)\n",
    "        except (ValueError, TypeError):\n",
    "            return None\n",
    "\n",
    "class Cameras(Base):\n",
    "    __tablename__ = 'cameras'\n",
    "    id = Column(Integer, primary_key=True, autoincrement=True)\n",
    "    image_id = Column(Integer, ForeignKey(\"edges.id\", ondelete=\"CASCADE\"), unique=True)\n",
    "    camera = Column(Json())\n",
    "    \n",
    "class Element(Base):\n",
    "    __tablename__ = 'elements'\n",
    "\n",
    "    id = Column(Integer(),\n",
    "                Sequence('element_id_seq'),\n",
    "                primary_key = True)\n",
    "    # ...\n",
    "    myarray = Column(ArrayType())\n",
    "    mycolumn = Column(Json())\n",
    "    \n",
    "class Edges(Base):\n",
    "    __tablename__ = 'edges'\n",
    "    id = Column(Integer, primary_key=True, autoincrement=True)\n",
    "    source = Column(Integer)\n",
    "    destination = Column(Integer)\n",
    "    ring = Column(ArrayType())\n",
    "    fundamental = Column(ArrayType())\n",
    "    active = Column(Boolean)\n",
    "    masks = Column(Json())"
   ]
  },
  {
   "cell_type": "code",
   "execution_count": 2,
   "metadata": {
    "scrolled": false
   },
   "outputs": [
    {
     "name": "stdout",
     "output_type": "stream",
     "text": [
      "2018-09-14 15:33:09,627 INFO sqlalchemy.engine.base.Engine SELECT CAST('test plain returns' AS VARCHAR(60)) AS anon_1\n",
      "2018-09-14 15:33:09,628 INFO sqlalchemy.engine.base.Engine ()\n",
      "2018-09-14 15:33:09,630 INFO sqlalchemy.engine.base.Engine SELECT CAST('test unicode returns' AS VARCHAR(60)) AS anon_1\n",
      "2018-09-14 15:33:09,631 INFO sqlalchemy.engine.base.Engine ()\n",
      "2018-09-14 15:33:09,634 INFO sqlalchemy.engine.base.Engine PRAGMA table_info(\"cameras\")\n",
      "2018-09-14 15:33:09,635 INFO sqlalchemy.engine.base.Engine ()\n",
      "2018-09-14 15:33:09,637 INFO sqlalchemy.engine.base.Engine PRAGMA table_info(\"elements\")\n",
      "2018-09-14 15:33:09,638 INFO sqlalchemy.engine.base.Engine ()\n",
      "2018-09-14 15:33:09,640 INFO sqlalchemy.engine.base.Engine PRAGMA table_info(\"edges\")\n",
      "2018-09-14 15:33:09,641 INFO sqlalchemy.engine.base.Engine ()\n",
      "2018-09-14 15:33:09,644 INFO sqlalchemy.engine.base.Engine \n",
      "CREATE TABLE elements (\n",
      "\tid INTEGER NOT NULL, \n",
      "\tmyarray VARCHAR, \n",
      "\tmycolumn VARCHAR, \n",
      "\tPRIMARY KEY (id)\n",
      ")\n",
      "\n",
      "\n",
      "2018-09-14 15:33:09,645 INFO sqlalchemy.engine.base.Engine ()\n",
      "2018-09-14 15:33:09,647 INFO sqlalchemy.engine.base.Engine COMMIT\n",
      "2018-09-14 15:33:09,649 INFO sqlalchemy.engine.base.Engine \n",
      "CREATE TABLE edges (\n",
      "\tid INTEGER NOT NULL, \n",
      "\tsource INTEGER, \n",
      "\tdestination INTEGER, \n",
      "\tring VARCHAR, \n",
      "\tfundamental VARCHAR, \n",
      "\tactive BOOLEAN, \n",
      "\tmasks VARCHAR, \n",
      "\tPRIMARY KEY (id), \n",
      "\tCHECK (active IN (0, 1))\n",
      ")\n",
      "\n",
      "\n",
      "2018-09-14 15:33:09,650 INFO sqlalchemy.engine.base.Engine ()\n",
      "2018-09-14 15:33:09,652 INFO sqlalchemy.engine.base.Engine COMMIT\n",
      "2018-09-14 15:33:09,654 INFO sqlalchemy.engine.base.Engine \n",
      "CREATE TABLE cameras (\n",
      "\tid INTEGER NOT NULL, \n",
      "\timage_id INTEGER, \n",
      "\tcamera VARCHAR, \n",
      "\tPRIMARY KEY (id), \n",
      "\tUNIQUE (image_id), \n",
      "\tFOREIGN KEY(image_id) REFERENCES edges (id) ON DELETE CASCADE\n",
      ")\n",
      "\n",
      "\n",
      "2018-09-14 15:33:09,655 INFO sqlalchemy.engine.base.Engine ()\n",
      "2018-09-14 15:33:09,657 INFO sqlalchemy.engine.base.Engine COMMIT\n"
     ]
    }
   ],
   "source": [
    "engine = create_engine('sqlite:///:memory:', echo=True)\n",
    "\n",
    "Base.metadata.create_all(engine)\n",
    "\n",
    "Session = sessionmaker(bind=engine)\n",
    "\n",
    "session = Session()"
   ]
  },
  {
   "cell_type": "code",
   "execution_count": 3,
   "metadata": {
    "scrolled": true
   },
   "outputs": [
    {
     "name": "stdout",
     "output_type": "stream",
     "text": [
      "2018-09-14 15:33:09,713 INFO sqlalchemy.engine.base.Engine BEGIN (implicit)\n",
      "2018-09-14 15:33:09,716 INFO sqlalchemy.engine.base.Engine INSERT INTO elements (id, myarray, mycolumn) VALUES (?, ?, ?)\n",
      "2018-09-14 15:33:09,718 INFO sqlalchemy.engine.base.Engine (69, '[1, 2, 3, 4, 5]', '\"{\\\\\"0\\\\\":{\\\\\"col1\\\\\":1,\\\\\"col2\\\\\":3},\\\\\"1\\\\\":{\\\\\"col1\\\\\":2,\\\\\"col2\\\\\":4}}\"')\n",
      "2018-09-14 15:33:09,722 INFO sqlalchemy.engine.base.Engine SELECT elements.id AS elements_id, elements.myarray AS elements_myarray, elements.mycolumn AS elements_mycolumn \n",
      "FROM elements \n",
      "WHERE elements.id = ?\n",
      " LIMIT ? OFFSET ?\n",
      "2018-09-14 15:33:09,723 INFO sqlalchemy.engine.base.Engine (69, 1, 0)\n"
     ]
    },
    {
     "data": {
      "text/plain": [
       "'{\"0\":{\"col1\":1,\"col2\":3},\"1\":{\"col1\":2,\"col2\":4}}'"
      ]
     },
     "execution_count": 3,
     "metadata": {},
     "output_type": "execute_result"
    }
   ],
   "source": [
    "# Creates a df out of dict and dumps to json\n",
    "data = {'col1': [1, 2], 'col2': [3, 4]}\n",
    "df = pd.DataFrame(data)\n",
    "df_json = df.to_json(orient='index')\n",
    "\n",
    "# creates a test of an array and json\n",
    "test_data = Element(id=69, myarray =[1, 2, 3, 4, 5], mycolumn=df_json)\n",
    "\n",
    "# Adds that test\n",
    "session.add(test_data)\n",
    "\n",
    "# Query the db for the test_data values\n",
    "our_user = session.query(Element).filter_by(id=69).first()\n",
    "\n",
    "# Output both values\n",
    "our_user.myarray\n",
    "our_user.mycolumn"
   ]
  },
  {
   "cell_type": "code",
   "execution_count": null,
   "metadata": {
    "collapsed": true
   },
   "outputs": [],
   "source": []
  }
 ],
 "metadata": {
  "kernelspec": {
   "display_name": "autocnet",
   "language": "python",
   "name": "autocnet"
  },
  "language_info": {
   "codemirror_mode": {
    "name": "ipython",
    "version": 3
   },
   "file_extension": ".py",
   "mimetype": "text/x-python",
   "name": "python",
   "nbconvert_exporter": "python",
   "pygments_lexer": "ipython3",
   "version": "3.6.4"
  }
 },
 "nbformat": 4,
 "nbformat_minor": 2
}
